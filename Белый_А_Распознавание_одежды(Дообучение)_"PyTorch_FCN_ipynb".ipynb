{
  "nbformat": 4,
  "nbformat_minor": 0,
  "metadata": {
    "accelerator": "GPU",
    "colab": {
      "provenance": [],
      "toc_visible": true,
      "include_colab_link": true
    },
    "kernelspec": {
      "display_name": "Python 3",
      "language": "python",
      "name": "python3"
    },
    "language_info": {
      "codemirror_mode": {
        "name": "ipython",
        "version": 3
      },
      "file_extension": ".py",
      "mimetype": "text/x-python",
      "name": "python",
      "nbconvert_exporter": "python",
      "pygments_lexer": "ipython3",
      "version": "3.7.6"
    },
    "gpuClass": "standard",
    "widgets": {
      "application/vnd.jupyter.widget-state+json": {
        "553a663ad78a40ea936d1f75ea708298": {
          "model_module": "@jupyter-widgets/controls",
          "model_name": "HBoxModel",
          "model_module_version": "1.5.0",
          "state": {
            "_dom_classes": [],
            "_model_module": "@jupyter-widgets/controls",
            "_model_module_version": "1.5.0",
            "_model_name": "HBoxModel",
            "_view_count": null,
            "_view_module": "@jupyter-widgets/controls",
            "_view_module_version": "1.5.0",
            "_view_name": "HBoxView",
            "box_style": "",
            "children": [
              "IPY_MODEL_e3ca1e0d90dd40ada07a3eaaec606a19",
              "IPY_MODEL_e6191a5c7ca245da88cff636f9165e53",
              "IPY_MODEL_b14c8012f694474190ad39f391a07003"
            ],
            "layout": "IPY_MODEL_c477c6884cf1432392afa6f8f007afa2"
          }
        },
        "e3ca1e0d90dd40ada07a3eaaec606a19": {
          "model_module": "@jupyter-widgets/controls",
          "model_name": "HTMLModel",
          "model_module_version": "1.5.0",
          "state": {
            "_dom_classes": [],
            "_model_module": "@jupyter-widgets/controls",
            "_model_module_version": "1.5.0",
            "_model_name": "HTMLModel",
            "_view_count": null,
            "_view_module": "@jupyter-widgets/controls",
            "_view_module_version": "1.5.0",
            "_view_name": "HTMLView",
            "description": "",
            "description_tooltip": null,
            "layout": "IPY_MODEL_52d1b0e496674c5395cd8e5a90aa017f",
            "placeholder": "​",
            "style": "IPY_MODEL_7f9d5b31fe4645aca0d3d6847040a35e",
            "value": "Sanity Checking DataLoader 0: 100%"
          }
        },
        "e6191a5c7ca245da88cff636f9165e53": {
          "model_module": "@jupyter-widgets/controls",
          "model_name": "FloatProgressModel",
          "model_module_version": "1.5.0",
          "state": {
            "_dom_classes": [],
            "_model_module": "@jupyter-widgets/controls",
            "_model_module_version": "1.5.0",
            "_model_name": "FloatProgressModel",
            "_view_count": null,
            "_view_module": "@jupyter-widgets/controls",
            "_view_module_version": "1.5.0",
            "_view_name": "ProgressView",
            "bar_style": "",
            "description": "",
            "description_tooltip": null,
            "layout": "IPY_MODEL_4932ad45b7cb4659aa7ee3240237aaaf",
            "max": 2,
            "min": 0,
            "orientation": "horizontal",
            "style": "IPY_MODEL_0b5748197f864306b0408e9cf3fafa3f",
            "value": 2
          }
        },
        "b14c8012f694474190ad39f391a07003": {
          "model_module": "@jupyter-widgets/controls",
          "model_name": "HTMLModel",
          "model_module_version": "1.5.0",
          "state": {
            "_dom_classes": [],
            "_model_module": "@jupyter-widgets/controls",
            "_model_module_version": "1.5.0",
            "_model_name": "HTMLModel",
            "_view_count": null,
            "_view_module": "@jupyter-widgets/controls",
            "_view_module_version": "1.5.0",
            "_view_name": "HTMLView",
            "description": "",
            "description_tooltip": null,
            "layout": "IPY_MODEL_6ea3ecd093734391af78d8677699a683",
            "placeholder": "​",
            "style": "IPY_MODEL_9a439cea60fd42eca600e5211710bcee",
            "value": " 2/2 [00:00&lt;00:00, 38.96it/s]"
          }
        },
        "c477c6884cf1432392afa6f8f007afa2": {
          "model_module": "@jupyter-widgets/base",
          "model_name": "LayoutModel",
          "model_module_version": "1.2.0",
          "state": {
            "_model_module": "@jupyter-widgets/base",
            "_model_module_version": "1.2.0",
            "_model_name": "LayoutModel",
            "_view_count": null,
            "_view_module": "@jupyter-widgets/base",
            "_view_module_version": "1.2.0",
            "_view_name": "LayoutView",
            "align_content": null,
            "align_items": null,
            "align_self": null,
            "border": null,
            "bottom": null,
            "display": "inline-flex",
            "flex": null,
            "flex_flow": "row wrap",
            "grid_area": null,
            "grid_auto_columns": null,
            "grid_auto_flow": null,
            "grid_auto_rows": null,
            "grid_column": null,
            "grid_gap": null,
            "grid_row": null,
            "grid_template_areas": null,
            "grid_template_columns": null,
            "grid_template_rows": null,
            "height": null,
            "justify_content": null,
            "justify_items": null,
            "left": null,
            "margin": null,
            "max_height": null,
            "max_width": null,
            "min_height": null,
            "min_width": null,
            "object_fit": null,
            "object_position": null,
            "order": null,
            "overflow": null,
            "overflow_x": null,
            "overflow_y": null,
            "padding": null,
            "right": null,
            "top": null,
            "visibility": "hidden",
            "width": "100%"
          }
        },
        "52d1b0e496674c5395cd8e5a90aa017f": {
          "model_module": "@jupyter-widgets/base",
          "model_name": "LayoutModel",
          "model_module_version": "1.2.0",
          "state": {
            "_model_module": "@jupyter-widgets/base",
            "_model_module_version": "1.2.0",
            "_model_name": "LayoutModel",
            "_view_count": null,
            "_view_module": "@jupyter-widgets/base",
            "_view_module_version": "1.2.0",
            "_view_name": "LayoutView",
            "align_content": null,
            "align_items": null,
            "align_self": null,
            "border": null,
            "bottom": null,
            "display": null,
            "flex": null,
            "flex_flow": null,
            "grid_area": null,
            "grid_auto_columns": null,
            "grid_auto_flow": null,
            "grid_auto_rows": null,
            "grid_column": null,
            "grid_gap": null,
            "grid_row": null,
            "grid_template_areas": null,
            "grid_template_columns": null,
            "grid_template_rows": null,
            "height": null,
            "justify_content": null,
            "justify_items": null,
            "left": null,
            "margin": null,
            "max_height": null,
            "max_width": null,
            "min_height": null,
            "min_width": null,
            "object_fit": null,
            "object_position": null,
            "order": null,
            "overflow": null,
            "overflow_x": null,
            "overflow_y": null,
            "padding": null,
            "right": null,
            "top": null,
            "visibility": null,
            "width": null
          }
        },
        "7f9d5b31fe4645aca0d3d6847040a35e": {
          "model_module": "@jupyter-widgets/controls",
          "model_name": "DescriptionStyleModel",
          "model_module_version": "1.5.0",
          "state": {
            "_model_module": "@jupyter-widgets/controls",
            "_model_module_version": "1.5.0",
            "_model_name": "DescriptionStyleModel",
            "_view_count": null,
            "_view_module": "@jupyter-widgets/base",
            "_view_module_version": "1.2.0",
            "_view_name": "StyleView",
            "description_width": ""
          }
        },
        "4932ad45b7cb4659aa7ee3240237aaaf": {
          "model_module": "@jupyter-widgets/base",
          "model_name": "LayoutModel",
          "model_module_version": "1.2.0",
          "state": {
            "_model_module": "@jupyter-widgets/base",
            "_model_module_version": "1.2.0",
            "_model_name": "LayoutModel",
            "_view_count": null,
            "_view_module": "@jupyter-widgets/base",
            "_view_module_version": "1.2.0",
            "_view_name": "LayoutView",
            "align_content": null,
            "align_items": null,
            "align_self": null,
            "border": null,
            "bottom": null,
            "display": null,
            "flex": "2",
            "flex_flow": null,
            "grid_area": null,
            "grid_auto_columns": null,
            "grid_auto_flow": null,
            "grid_auto_rows": null,
            "grid_column": null,
            "grid_gap": null,
            "grid_row": null,
            "grid_template_areas": null,
            "grid_template_columns": null,
            "grid_template_rows": null,
            "height": null,
            "justify_content": null,
            "justify_items": null,
            "left": null,
            "margin": null,
            "max_height": null,
            "max_width": null,
            "min_height": null,
            "min_width": null,
            "object_fit": null,
            "object_position": null,
            "order": null,
            "overflow": null,
            "overflow_x": null,
            "overflow_y": null,
            "padding": null,
            "right": null,
            "top": null,
            "visibility": null,
            "width": null
          }
        },
        "0b5748197f864306b0408e9cf3fafa3f": {
          "model_module": "@jupyter-widgets/controls",
          "model_name": "ProgressStyleModel",
          "model_module_version": "1.5.0",
          "state": {
            "_model_module": "@jupyter-widgets/controls",
            "_model_module_version": "1.5.0",
            "_model_name": "ProgressStyleModel",
            "_view_count": null,
            "_view_module": "@jupyter-widgets/base",
            "_view_module_version": "1.2.0",
            "_view_name": "StyleView",
            "bar_color": null,
            "description_width": ""
          }
        },
        "6ea3ecd093734391af78d8677699a683": {
          "model_module": "@jupyter-widgets/base",
          "model_name": "LayoutModel",
          "model_module_version": "1.2.0",
          "state": {
            "_model_module": "@jupyter-widgets/base",
            "_model_module_version": "1.2.0",
            "_model_name": "LayoutModel",
            "_view_count": null,
            "_view_module": "@jupyter-widgets/base",
            "_view_module_version": "1.2.0",
            "_view_name": "LayoutView",
            "align_content": null,
            "align_items": null,
            "align_self": null,
            "border": null,
            "bottom": null,
            "display": null,
            "flex": null,
            "flex_flow": null,
            "grid_area": null,
            "grid_auto_columns": null,
            "grid_auto_flow": null,
            "grid_auto_rows": null,
            "grid_column": null,
            "grid_gap": null,
            "grid_row": null,
            "grid_template_areas": null,
            "grid_template_columns": null,
            "grid_template_rows": null,
            "height": null,
            "justify_content": null,
            "justify_items": null,
            "left": null,
            "margin": null,
            "max_height": null,
            "max_width": null,
            "min_height": null,
            "min_width": null,
            "object_fit": null,
            "object_position": null,
            "order": null,
            "overflow": null,
            "overflow_x": null,
            "overflow_y": null,
            "padding": null,
            "right": null,
            "top": null,
            "visibility": null,
            "width": null
          }
        },
        "9a439cea60fd42eca600e5211710bcee": {
          "model_module": "@jupyter-widgets/controls",
          "model_name": "DescriptionStyleModel",
          "model_module_version": "1.5.0",
          "state": {
            "_model_module": "@jupyter-widgets/controls",
            "_model_module_version": "1.5.0",
            "_model_name": "DescriptionStyleModel",
            "_view_count": null,
            "_view_module": "@jupyter-widgets/base",
            "_view_module_version": "1.2.0",
            "_view_name": "StyleView",
            "description_width": ""
          }
        },
        "2d9629add3a24ad08e622c27140fbcca": {
          "model_module": "@jupyter-widgets/controls",
          "model_name": "HBoxModel",
          "model_module_version": "1.5.0",
          "state": {
            "_dom_classes": [],
            "_model_module": "@jupyter-widgets/controls",
            "_model_module_version": "1.5.0",
            "_model_name": "HBoxModel",
            "_view_count": null,
            "_view_module": "@jupyter-widgets/controls",
            "_view_module_version": "1.5.0",
            "_view_name": "HBoxView",
            "box_style": "",
            "children": [
              "IPY_MODEL_d7d5dc4655ed4947b69d6f998c9e934c",
              "IPY_MODEL_ec6252080493464fa4664be30a5b1e7a",
              "IPY_MODEL_e1f1814751fe4863972a798147724b04"
            ],
            "layout": "IPY_MODEL_56d5d7a5b6934e3a8e0380f641e84158"
          }
        },
        "d7d5dc4655ed4947b69d6f998c9e934c": {
          "model_module": "@jupyter-widgets/controls",
          "model_name": "HTMLModel",
          "model_module_version": "1.5.0",
          "state": {
            "_dom_classes": [],
            "_model_module": "@jupyter-widgets/controls",
            "_model_module_version": "1.5.0",
            "_model_name": "HTMLModel",
            "_view_count": null,
            "_view_module": "@jupyter-widgets/controls",
            "_view_module_version": "1.5.0",
            "_view_name": "HTMLView",
            "description": "",
            "description_tooltip": null,
            "layout": "IPY_MODEL_415f3284530d4ab0bb0bfbca1de2176b",
            "placeholder": "​",
            "style": "IPY_MODEL_e256bb569f634da991715759988dfc4b",
            "value": "Epoch 4: 100%"
          }
        },
        "ec6252080493464fa4664be30a5b1e7a": {
          "model_module": "@jupyter-widgets/controls",
          "model_name": "FloatProgressModel",
          "model_module_version": "1.5.0",
          "state": {
            "_dom_classes": [],
            "_model_module": "@jupyter-widgets/controls",
            "_model_module_version": "1.5.0",
            "_model_name": "FloatProgressModel",
            "_view_count": null,
            "_view_module": "@jupyter-widgets/controls",
            "_view_module_version": "1.5.0",
            "_view_name": "ProgressView",
            "bar_style": "success",
            "description": "",
            "description_tooltip": null,
            "layout": "IPY_MODEL_2d452cb2601843078c44d8f02a83e754",
            "max": 469,
            "min": 0,
            "orientation": "horizontal",
            "style": "IPY_MODEL_c8130ed065b14e14a0b911d7ed6826d9",
            "value": 469
          }
        },
        "e1f1814751fe4863972a798147724b04": {
          "model_module": "@jupyter-widgets/controls",
          "model_name": "HTMLModel",
          "model_module_version": "1.5.0",
          "state": {
            "_dom_classes": [],
            "_model_module": "@jupyter-widgets/controls",
            "_model_module_version": "1.5.0",
            "_model_name": "HTMLModel",
            "_view_count": null,
            "_view_module": "@jupyter-widgets/controls",
            "_view_module_version": "1.5.0",
            "_view_name": "HTMLView",
            "description": "",
            "description_tooltip": null,
            "layout": "IPY_MODEL_9381024c6b7c43ca9c5257a23c47e02c",
            "placeholder": "​",
            "style": "IPY_MODEL_af01ab29b1544decba99808d77e6111b",
            "value": " 469/469 [00:14&lt;00:00, 31.60it/s, v_num=5, train_loss=0.438, val_loss=0.340]"
          }
        },
        "56d5d7a5b6934e3a8e0380f641e84158": {
          "model_module": "@jupyter-widgets/base",
          "model_name": "LayoutModel",
          "model_module_version": "1.2.0",
          "state": {
            "_model_module": "@jupyter-widgets/base",
            "_model_module_version": "1.2.0",
            "_model_name": "LayoutModel",
            "_view_count": null,
            "_view_module": "@jupyter-widgets/base",
            "_view_module_version": "1.2.0",
            "_view_name": "LayoutView",
            "align_content": null,
            "align_items": null,
            "align_self": null,
            "border": null,
            "bottom": null,
            "display": "inline-flex",
            "flex": null,
            "flex_flow": "row wrap",
            "grid_area": null,
            "grid_auto_columns": null,
            "grid_auto_flow": null,
            "grid_auto_rows": null,
            "grid_column": null,
            "grid_gap": null,
            "grid_row": null,
            "grid_template_areas": null,
            "grid_template_columns": null,
            "grid_template_rows": null,
            "height": null,
            "justify_content": null,
            "justify_items": null,
            "left": null,
            "margin": null,
            "max_height": null,
            "max_width": null,
            "min_height": null,
            "min_width": null,
            "object_fit": null,
            "object_position": null,
            "order": null,
            "overflow": null,
            "overflow_x": null,
            "overflow_y": null,
            "padding": null,
            "right": null,
            "top": null,
            "visibility": null,
            "width": "100%"
          }
        },
        "415f3284530d4ab0bb0bfbca1de2176b": {
          "model_module": "@jupyter-widgets/base",
          "model_name": "LayoutModel",
          "model_module_version": "1.2.0",
          "state": {
            "_model_module": "@jupyter-widgets/base",
            "_model_module_version": "1.2.0",
            "_model_name": "LayoutModel",
            "_view_count": null,
            "_view_module": "@jupyter-widgets/base",
            "_view_module_version": "1.2.0",
            "_view_name": "LayoutView",
            "align_content": null,
            "align_items": null,
            "align_self": null,
            "border": null,
            "bottom": null,
            "display": null,
            "flex": null,
            "flex_flow": null,
            "grid_area": null,
            "grid_auto_columns": null,
            "grid_auto_flow": null,
            "grid_auto_rows": null,
            "grid_column": null,
            "grid_gap": null,
            "grid_row": null,
            "grid_template_areas": null,
            "grid_template_columns": null,
            "grid_template_rows": null,
            "height": null,
            "justify_content": null,
            "justify_items": null,
            "left": null,
            "margin": null,
            "max_height": null,
            "max_width": null,
            "min_height": null,
            "min_width": null,
            "object_fit": null,
            "object_position": null,
            "order": null,
            "overflow": null,
            "overflow_x": null,
            "overflow_y": null,
            "padding": null,
            "right": null,
            "top": null,
            "visibility": null,
            "width": null
          }
        },
        "e256bb569f634da991715759988dfc4b": {
          "model_module": "@jupyter-widgets/controls",
          "model_name": "DescriptionStyleModel",
          "model_module_version": "1.5.0",
          "state": {
            "_model_module": "@jupyter-widgets/controls",
            "_model_module_version": "1.5.0",
            "_model_name": "DescriptionStyleModel",
            "_view_count": null,
            "_view_module": "@jupyter-widgets/base",
            "_view_module_version": "1.2.0",
            "_view_name": "StyleView",
            "description_width": ""
          }
        },
        "2d452cb2601843078c44d8f02a83e754": {
          "model_module": "@jupyter-widgets/base",
          "model_name": "LayoutModel",
          "model_module_version": "1.2.0",
          "state": {
            "_model_module": "@jupyter-widgets/base",
            "_model_module_version": "1.2.0",
            "_model_name": "LayoutModel",
            "_view_count": null,
            "_view_module": "@jupyter-widgets/base",
            "_view_module_version": "1.2.0",
            "_view_name": "LayoutView",
            "align_content": null,
            "align_items": null,
            "align_self": null,
            "border": null,
            "bottom": null,
            "display": null,
            "flex": "2",
            "flex_flow": null,
            "grid_area": null,
            "grid_auto_columns": null,
            "grid_auto_flow": null,
            "grid_auto_rows": null,
            "grid_column": null,
            "grid_gap": null,
            "grid_row": null,
            "grid_template_areas": null,
            "grid_template_columns": null,
            "grid_template_rows": null,
            "height": null,
            "justify_content": null,
            "justify_items": null,
            "left": null,
            "margin": null,
            "max_height": null,
            "max_width": null,
            "min_height": null,
            "min_width": null,
            "object_fit": null,
            "object_position": null,
            "order": null,
            "overflow": null,
            "overflow_x": null,
            "overflow_y": null,
            "padding": null,
            "right": null,
            "top": null,
            "visibility": null,
            "width": null
          }
        },
        "c8130ed065b14e14a0b911d7ed6826d9": {
          "model_module": "@jupyter-widgets/controls",
          "model_name": "ProgressStyleModel",
          "model_module_version": "1.5.0",
          "state": {
            "_model_module": "@jupyter-widgets/controls",
            "_model_module_version": "1.5.0",
            "_model_name": "ProgressStyleModel",
            "_view_count": null,
            "_view_module": "@jupyter-widgets/base",
            "_view_module_version": "1.2.0",
            "_view_name": "StyleView",
            "bar_color": null,
            "description_width": ""
          }
        },
        "9381024c6b7c43ca9c5257a23c47e02c": {
          "model_module": "@jupyter-widgets/base",
          "model_name": "LayoutModel",
          "model_module_version": "1.2.0",
          "state": {
            "_model_module": "@jupyter-widgets/base",
            "_model_module_version": "1.2.0",
            "_model_name": "LayoutModel",
            "_view_count": null,
            "_view_module": "@jupyter-widgets/base",
            "_view_module_version": "1.2.0",
            "_view_name": "LayoutView",
            "align_content": null,
            "align_items": null,
            "align_self": null,
            "border": null,
            "bottom": null,
            "display": null,
            "flex": null,
            "flex_flow": null,
            "grid_area": null,
            "grid_auto_columns": null,
            "grid_auto_flow": null,
            "grid_auto_rows": null,
            "grid_column": null,
            "grid_gap": null,
            "grid_row": null,
            "grid_template_areas": null,
            "grid_template_columns": null,
            "grid_template_rows": null,
            "height": null,
            "justify_content": null,
            "justify_items": null,
            "left": null,
            "margin": null,
            "max_height": null,
            "max_width": null,
            "min_height": null,
            "min_width": null,
            "object_fit": null,
            "object_position": null,
            "order": null,
            "overflow": null,
            "overflow_x": null,
            "overflow_y": null,
            "padding": null,
            "right": null,
            "top": null,
            "visibility": null,
            "width": null
          }
        },
        "af01ab29b1544decba99808d77e6111b": {
          "model_module": "@jupyter-widgets/controls",
          "model_name": "DescriptionStyleModel",
          "model_module_version": "1.5.0",
          "state": {
            "_model_module": "@jupyter-widgets/controls",
            "_model_module_version": "1.5.0",
            "_model_name": "DescriptionStyleModel",
            "_view_count": null,
            "_view_module": "@jupyter-widgets/base",
            "_view_module_version": "1.2.0",
            "_view_name": "StyleView",
            "description_width": ""
          }
        },
        "4e50d48f5c0149288d57beaea84d3642": {
          "model_module": "@jupyter-widgets/controls",
          "model_name": "HBoxModel",
          "model_module_version": "1.5.0",
          "state": {
            "_dom_classes": [],
            "_model_module": "@jupyter-widgets/controls",
            "_model_module_version": "1.5.0",
            "_model_name": "HBoxModel",
            "_view_count": null,
            "_view_module": "@jupyter-widgets/controls",
            "_view_module_version": "1.5.0",
            "_view_name": "HBoxView",
            "box_style": "",
            "children": [
              "IPY_MODEL_5ab352d16c544b46b9c0821f586187ed",
              "IPY_MODEL_cd1c68fd7f654674a31d37d95035947e",
              "IPY_MODEL_a3859b9859354305a8efbcbb14c747f6"
            ],
            "layout": "IPY_MODEL_a9e919880432453a9e113e326d9efde1"
          }
        },
        "5ab352d16c544b46b9c0821f586187ed": {
          "model_module": "@jupyter-widgets/controls",
          "model_name": "HTMLModel",
          "model_module_version": "1.5.0",
          "state": {
            "_dom_classes": [],
            "_model_module": "@jupyter-widgets/controls",
            "_model_module_version": "1.5.0",
            "_model_name": "HTMLModel",
            "_view_count": null,
            "_view_module": "@jupyter-widgets/controls",
            "_view_module_version": "1.5.0",
            "_view_name": "HTMLView",
            "description": "",
            "description_tooltip": null,
            "layout": "IPY_MODEL_5e8fbaa7765b48f4a1740c1d6b6752d6",
            "placeholder": "​",
            "style": "IPY_MODEL_c0d8a01a8a4840b393ed94ffddda4a36",
            "value": "Validation DataLoader 0: 100%"
          }
        },
        "cd1c68fd7f654674a31d37d95035947e": {
          "model_module": "@jupyter-widgets/controls",
          "model_name": "FloatProgressModel",
          "model_module_version": "1.5.0",
          "state": {
            "_dom_classes": [],
            "_model_module": "@jupyter-widgets/controls",
            "_model_module_version": "1.5.0",
            "_model_name": "FloatProgressModel",
            "_view_count": null,
            "_view_module": "@jupyter-widgets/controls",
            "_view_module_version": "1.5.0",
            "_view_name": "ProgressView",
            "bar_style": "",
            "description": "",
            "description_tooltip": null,
            "layout": "IPY_MODEL_ba88cd376e4142509967cc18118016c3",
            "max": 79,
            "min": 0,
            "orientation": "horizontal",
            "style": "IPY_MODEL_22e94ed351c14eb8b70a971ca8d1a831",
            "value": 79
          }
        },
        "a3859b9859354305a8efbcbb14c747f6": {
          "model_module": "@jupyter-widgets/controls",
          "model_name": "HTMLModel",
          "model_module_version": "1.5.0",
          "state": {
            "_dom_classes": [],
            "_model_module": "@jupyter-widgets/controls",
            "_model_module_version": "1.5.0",
            "_model_name": "HTMLModel",
            "_view_count": null,
            "_view_module": "@jupyter-widgets/controls",
            "_view_module_version": "1.5.0",
            "_view_name": "HTMLView",
            "description": "",
            "description_tooltip": null,
            "layout": "IPY_MODEL_48b42f8c09d34669965deba100cb96e7",
            "placeholder": "​",
            "style": "IPY_MODEL_52b398c189784123abd7c03af801a321",
            "value": " 79/79 [00:01&lt;00:00, 44.72it/s]"
          }
        },
        "a9e919880432453a9e113e326d9efde1": {
          "model_module": "@jupyter-widgets/base",
          "model_name": "LayoutModel",
          "model_module_version": "1.2.0",
          "state": {
            "_model_module": "@jupyter-widgets/base",
            "_model_module_version": "1.2.0",
            "_model_name": "LayoutModel",
            "_view_count": null,
            "_view_module": "@jupyter-widgets/base",
            "_view_module_version": "1.2.0",
            "_view_name": "LayoutView",
            "align_content": null,
            "align_items": null,
            "align_self": null,
            "border": null,
            "bottom": null,
            "display": "inline-flex",
            "flex": null,
            "flex_flow": "row wrap",
            "grid_area": null,
            "grid_auto_columns": null,
            "grid_auto_flow": null,
            "grid_auto_rows": null,
            "grid_column": null,
            "grid_gap": null,
            "grid_row": null,
            "grid_template_areas": null,
            "grid_template_columns": null,
            "grid_template_rows": null,
            "height": null,
            "justify_content": null,
            "justify_items": null,
            "left": null,
            "margin": null,
            "max_height": null,
            "max_width": null,
            "min_height": null,
            "min_width": null,
            "object_fit": null,
            "object_position": null,
            "order": null,
            "overflow": null,
            "overflow_x": null,
            "overflow_y": null,
            "padding": null,
            "right": null,
            "top": null,
            "visibility": "hidden",
            "width": "100%"
          }
        },
        "5e8fbaa7765b48f4a1740c1d6b6752d6": {
          "model_module": "@jupyter-widgets/base",
          "model_name": "LayoutModel",
          "model_module_version": "1.2.0",
          "state": {
            "_model_module": "@jupyter-widgets/base",
            "_model_module_version": "1.2.0",
            "_model_name": "LayoutModel",
            "_view_count": null,
            "_view_module": "@jupyter-widgets/base",
            "_view_module_version": "1.2.0",
            "_view_name": "LayoutView",
            "align_content": null,
            "align_items": null,
            "align_self": null,
            "border": null,
            "bottom": null,
            "display": null,
            "flex": null,
            "flex_flow": null,
            "grid_area": null,
            "grid_auto_columns": null,
            "grid_auto_flow": null,
            "grid_auto_rows": null,
            "grid_column": null,
            "grid_gap": null,
            "grid_row": null,
            "grid_template_areas": null,
            "grid_template_columns": null,
            "grid_template_rows": null,
            "height": null,
            "justify_content": null,
            "justify_items": null,
            "left": null,
            "margin": null,
            "max_height": null,
            "max_width": null,
            "min_height": null,
            "min_width": null,
            "object_fit": null,
            "object_position": null,
            "order": null,
            "overflow": null,
            "overflow_x": null,
            "overflow_y": null,
            "padding": null,
            "right": null,
            "top": null,
            "visibility": null,
            "width": null
          }
        },
        "c0d8a01a8a4840b393ed94ffddda4a36": {
          "model_module": "@jupyter-widgets/controls",
          "model_name": "DescriptionStyleModel",
          "model_module_version": "1.5.0",
          "state": {
            "_model_module": "@jupyter-widgets/controls",
            "_model_module_version": "1.5.0",
            "_model_name": "DescriptionStyleModel",
            "_view_count": null,
            "_view_module": "@jupyter-widgets/base",
            "_view_module_version": "1.2.0",
            "_view_name": "StyleView",
            "description_width": ""
          }
        },
        "ba88cd376e4142509967cc18118016c3": {
          "model_module": "@jupyter-widgets/base",
          "model_name": "LayoutModel",
          "model_module_version": "1.2.0",
          "state": {
            "_model_module": "@jupyter-widgets/base",
            "_model_module_version": "1.2.0",
            "_model_name": "LayoutModel",
            "_view_count": null,
            "_view_module": "@jupyter-widgets/base",
            "_view_module_version": "1.2.0",
            "_view_name": "LayoutView",
            "align_content": null,
            "align_items": null,
            "align_self": null,
            "border": null,
            "bottom": null,
            "display": null,
            "flex": "2",
            "flex_flow": null,
            "grid_area": null,
            "grid_auto_columns": null,
            "grid_auto_flow": null,
            "grid_auto_rows": null,
            "grid_column": null,
            "grid_gap": null,
            "grid_row": null,
            "grid_template_areas": null,
            "grid_template_columns": null,
            "grid_template_rows": null,
            "height": null,
            "justify_content": null,
            "justify_items": null,
            "left": null,
            "margin": null,
            "max_height": null,
            "max_width": null,
            "min_height": null,
            "min_width": null,
            "object_fit": null,
            "object_position": null,
            "order": null,
            "overflow": null,
            "overflow_x": null,
            "overflow_y": null,
            "padding": null,
            "right": null,
            "top": null,
            "visibility": null,
            "width": null
          }
        },
        "22e94ed351c14eb8b70a971ca8d1a831": {
          "model_module": "@jupyter-widgets/controls",
          "model_name": "ProgressStyleModel",
          "model_module_version": "1.5.0",
          "state": {
            "_model_module": "@jupyter-widgets/controls",
            "_model_module_version": "1.5.0",
            "_model_name": "ProgressStyleModel",
            "_view_count": null,
            "_view_module": "@jupyter-widgets/base",
            "_view_module_version": "1.2.0",
            "_view_name": "StyleView",
            "bar_color": null,
            "description_width": ""
          }
        },
        "48b42f8c09d34669965deba100cb96e7": {
          "model_module": "@jupyter-widgets/base",
          "model_name": "LayoutModel",
          "model_module_version": "1.2.0",
          "state": {
            "_model_module": "@jupyter-widgets/base",
            "_model_module_version": "1.2.0",
            "_model_name": "LayoutModel",
            "_view_count": null,
            "_view_module": "@jupyter-widgets/base",
            "_view_module_version": "1.2.0",
            "_view_name": "LayoutView",
            "align_content": null,
            "align_items": null,
            "align_self": null,
            "border": null,
            "bottom": null,
            "display": null,
            "flex": null,
            "flex_flow": null,
            "grid_area": null,
            "grid_auto_columns": null,
            "grid_auto_flow": null,
            "grid_auto_rows": null,
            "grid_column": null,
            "grid_gap": null,
            "grid_row": null,
            "grid_template_areas": null,
            "grid_template_columns": null,
            "grid_template_rows": null,
            "height": null,
            "justify_content": null,
            "justify_items": null,
            "left": null,
            "margin": null,
            "max_height": null,
            "max_width": null,
            "min_height": null,
            "min_width": null,
            "object_fit": null,
            "object_position": null,
            "order": null,
            "overflow": null,
            "overflow_x": null,
            "overflow_y": null,
            "padding": null,
            "right": null,
            "top": null,
            "visibility": null,
            "width": null
          }
        },
        "52b398c189784123abd7c03af801a321": {
          "model_module": "@jupyter-widgets/controls",
          "model_name": "DescriptionStyleModel",
          "model_module_version": "1.5.0",
          "state": {
            "_model_module": "@jupyter-widgets/controls",
            "_model_module_version": "1.5.0",
            "_model_name": "DescriptionStyleModel",
            "_view_count": null,
            "_view_module": "@jupyter-widgets/base",
            "_view_module_version": "1.2.0",
            "_view_name": "StyleView",
            "description_width": ""
          }
        },
        "1ec1a4c061fb4a2e95a74e2515e2bfda": {
          "model_module": "@jupyter-widgets/controls",
          "model_name": "HBoxModel",
          "model_module_version": "1.5.0",
          "state": {
            "_dom_classes": [],
            "_model_module": "@jupyter-widgets/controls",
            "_model_module_version": "1.5.0",
            "_model_name": "HBoxModel",
            "_view_count": null,
            "_view_module": "@jupyter-widgets/controls",
            "_view_module_version": "1.5.0",
            "_view_name": "HBoxView",
            "box_style": "",
            "children": [
              "IPY_MODEL_746d73945996478e9fc8f482892d52b7",
              "IPY_MODEL_6cbb158b854343229aacf88b57ba7bb1",
              "IPY_MODEL_3521f920d92c462a96d8513fd1a1bcfd"
            ],
            "layout": "IPY_MODEL_0613ab4994044d07ac99267bede80b1d"
          }
        },
        "746d73945996478e9fc8f482892d52b7": {
          "model_module": "@jupyter-widgets/controls",
          "model_name": "HTMLModel",
          "model_module_version": "1.5.0",
          "state": {
            "_dom_classes": [],
            "_model_module": "@jupyter-widgets/controls",
            "_model_module_version": "1.5.0",
            "_model_name": "HTMLModel",
            "_view_count": null,
            "_view_module": "@jupyter-widgets/controls",
            "_view_module_version": "1.5.0",
            "_view_name": "HTMLView",
            "description": "",
            "description_tooltip": null,
            "layout": "IPY_MODEL_ad9039aea7414a7ea4652f8389350ec0",
            "placeholder": "​",
            "style": "IPY_MODEL_4955a7e09ea8453881faad3e3e4c0a8e",
            "value": "Validation DataLoader 0: 100%"
          }
        },
        "6cbb158b854343229aacf88b57ba7bb1": {
          "model_module": "@jupyter-widgets/controls",
          "model_name": "FloatProgressModel",
          "model_module_version": "1.5.0",
          "state": {
            "_dom_classes": [],
            "_model_module": "@jupyter-widgets/controls",
            "_model_module_version": "1.5.0",
            "_model_name": "FloatProgressModel",
            "_view_count": null,
            "_view_module": "@jupyter-widgets/controls",
            "_view_module_version": "1.5.0",
            "_view_name": "ProgressView",
            "bar_style": "",
            "description": "",
            "description_tooltip": null,
            "layout": "IPY_MODEL_65ece4cc5cd142c4999b47664c2bdda8",
            "max": 79,
            "min": 0,
            "orientation": "horizontal",
            "style": "IPY_MODEL_10a9d47701d34649913c7f20c0098ea3",
            "value": 79
          }
        },
        "3521f920d92c462a96d8513fd1a1bcfd": {
          "model_module": "@jupyter-widgets/controls",
          "model_name": "HTMLModel",
          "model_module_version": "1.5.0",
          "state": {
            "_dom_classes": [],
            "_model_module": "@jupyter-widgets/controls",
            "_model_module_version": "1.5.0",
            "_model_name": "HTMLModel",
            "_view_count": null,
            "_view_module": "@jupyter-widgets/controls",
            "_view_module_version": "1.5.0",
            "_view_name": "HTMLView",
            "description": "",
            "description_tooltip": null,
            "layout": "IPY_MODEL_9e3a0a64e11045fd9a20ea92aec239c3",
            "placeholder": "​",
            "style": "IPY_MODEL_4bc8950e58644816a3eb04c2a5391554",
            "value": " 79/79 [00:04&lt;00:00, 17.06it/s]"
          }
        },
        "0613ab4994044d07ac99267bede80b1d": {
          "model_module": "@jupyter-widgets/base",
          "model_name": "LayoutModel",
          "model_module_version": "1.2.0",
          "state": {
            "_model_module": "@jupyter-widgets/base",
            "_model_module_version": "1.2.0",
            "_model_name": "LayoutModel",
            "_view_count": null,
            "_view_module": "@jupyter-widgets/base",
            "_view_module_version": "1.2.0",
            "_view_name": "LayoutView",
            "align_content": null,
            "align_items": null,
            "align_self": null,
            "border": null,
            "bottom": null,
            "display": "inline-flex",
            "flex": null,
            "flex_flow": "row wrap",
            "grid_area": null,
            "grid_auto_columns": null,
            "grid_auto_flow": null,
            "grid_auto_rows": null,
            "grid_column": null,
            "grid_gap": null,
            "grid_row": null,
            "grid_template_areas": null,
            "grid_template_columns": null,
            "grid_template_rows": null,
            "height": null,
            "justify_content": null,
            "justify_items": null,
            "left": null,
            "margin": null,
            "max_height": null,
            "max_width": null,
            "min_height": null,
            "min_width": null,
            "object_fit": null,
            "object_position": null,
            "order": null,
            "overflow": null,
            "overflow_x": null,
            "overflow_y": null,
            "padding": null,
            "right": null,
            "top": null,
            "visibility": "hidden",
            "width": "100%"
          }
        },
        "ad9039aea7414a7ea4652f8389350ec0": {
          "model_module": "@jupyter-widgets/base",
          "model_name": "LayoutModel",
          "model_module_version": "1.2.0",
          "state": {
            "_model_module": "@jupyter-widgets/base",
            "_model_module_version": "1.2.0",
            "_model_name": "LayoutModel",
            "_view_count": null,
            "_view_module": "@jupyter-widgets/base",
            "_view_module_version": "1.2.0",
            "_view_name": "LayoutView",
            "align_content": null,
            "align_items": null,
            "align_self": null,
            "border": null,
            "bottom": null,
            "display": null,
            "flex": null,
            "flex_flow": null,
            "grid_area": null,
            "grid_auto_columns": null,
            "grid_auto_flow": null,
            "grid_auto_rows": null,
            "grid_column": null,
            "grid_gap": null,
            "grid_row": null,
            "grid_template_areas": null,
            "grid_template_columns": null,
            "grid_template_rows": null,
            "height": null,
            "justify_content": null,
            "justify_items": null,
            "left": null,
            "margin": null,
            "max_height": null,
            "max_width": null,
            "min_height": null,
            "min_width": null,
            "object_fit": null,
            "object_position": null,
            "order": null,
            "overflow": null,
            "overflow_x": null,
            "overflow_y": null,
            "padding": null,
            "right": null,
            "top": null,
            "visibility": null,
            "width": null
          }
        },
        "4955a7e09ea8453881faad3e3e4c0a8e": {
          "model_module": "@jupyter-widgets/controls",
          "model_name": "DescriptionStyleModel",
          "model_module_version": "1.5.0",
          "state": {
            "_model_module": "@jupyter-widgets/controls",
            "_model_module_version": "1.5.0",
            "_model_name": "DescriptionStyleModel",
            "_view_count": null,
            "_view_module": "@jupyter-widgets/base",
            "_view_module_version": "1.2.0",
            "_view_name": "StyleView",
            "description_width": ""
          }
        },
        "65ece4cc5cd142c4999b47664c2bdda8": {
          "model_module": "@jupyter-widgets/base",
          "model_name": "LayoutModel",
          "model_module_version": "1.2.0",
          "state": {
            "_model_module": "@jupyter-widgets/base",
            "_model_module_version": "1.2.0",
            "_model_name": "LayoutModel",
            "_view_count": null,
            "_view_module": "@jupyter-widgets/base",
            "_view_module_version": "1.2.0",
            "_view_name": "LayoutView",
            "align_content": null,
            "align_items": null,
            "align_self": null,
            "border": null,
            "bottom": null,
            "display": null,
            "flex": "2",
            "flex_flow": null,
            "grid_area": null,
            "grid_auto_columns": null,
            "grid_auto_flow": null,
            "grid_auto_rows": null,
            "grid_column": null,
            "grid_gap": null,
            "grid_row": null,
            "grid_template_areas": null,
            "grid_template_columns": null,
            "grid_template_rows": null,
            "height": null,
            "justify_content": null,
            "justify_items": null,
            "left": null,
            "margin": null,
            "max_height": null,
            "max_width": null,
            "min_height": null,
            "min_width": null,
            "object_fit": null,
            "object_position": null,
            "order": null,
            "overflow": null,
            "overflow_x": null,
            "overflow_y": null,
            "padding": null,
            "right": null,
            "top": null,
            "visibility": null,
            "width": null
          }
        },
        "10a9d47701d34649913c7f20c0098ea3": {
          "model_module": "@jupyter-widgets/controls",
          "model_name": "ProgressStyleModel",
          "model_module_version": "1.5.0",
          "state": {
            "_model_module": "@jupyter-widgets/controls",
            "_model_module_version": "1.5.0",
            "_model_name": "ProgressStyleModel",
            "_view_count": null,
            "_view_module": "@jupyter-widgets/base",
            "_view_module_version": "1.2.0",
            "_view_name": "StyleView",
            "bar_color": null,
            "description_width": ""
          }
        },
        "9e3a0a64e11045fd9a20ea92aec239c3": {
          "model_module": "@jupyter-widgets/base",
          "model_name": "LayoutModel",
          "model_module_version": "1.2.0",
          "state": {
            "_model_module": "@jupyter-widgets/base",
            "_model_module_version": "1.2.0",
            "_model_name": "LayoutModel",
            "_view_count": null,
            "_view_module": "@jupyter-widgets/base",
            "_view_module_version": "1.2.0",
            "_view_name": "LayoutView",
            "align_content": null,
            "align_items": null,
            "align_self": null,
            "border": null,
            "bottom": null,
            "display": null,
            "flex": null,
            "flex_flow": null,
            "grid_area": null,
            "grid_auto_columns": null,
            "grid_auto_flow": null,
            "grid_auto_rows": null,
            "grid_column": null,
            "grid_gap": null,
            "grid_row": null,
            "grid_template_areas": null,
            "grid_template_columns": null,
            "grid_template_rows": null,
            "height": null,
            "justify_content": null,
            "justify_items": null,
            "left": null,
            "margin": null,
            "max_height": null,
            "max_width": null,
            "min_height": null,
            "min_width": null,
            "object_fit": null,
            "object_position": null,
            "order": null,
            "overflow": null,
            "overflow_x": null,
            "overflow_y": null,
            "padding": null,
            "right": null,
            "top": null,
            "visibility": null,
            "width": null
          }
        },
        "4bc8950e58644816a3eb04c2a5391554": {
          "model_module": "@jupyter-widgets/controls",
          "model_name": "DescriptionStyleModel",
          "model_module_version": "1.5.0",
          "state": {
            "_model_module": "@jupyter-widgets/controls",
            "_model_module_version": "1.5.0",
            "_model_name": "DescriptionStyleModel",
            "_view_count": null,
            "_view_module": "@jupyter-widgets/base",
            "_view_module_version": "1.2.0",
            "_view_name": "StyleView",
            "description_width": ""
          }
        },
        "21eb1026f7e64e5a9ecb03f285bee633": {
          "model_module": "@jupyter-widgets/controls",
          "model_name": "HBoxModel",
          "model_module_version": "1.5.0",
          "state": {
            "_dom_classes": [],
            "_model_module": "@jupyter-widgets/controls",
            "_model_module_version": "1.5.0",
            "_model_name": "HBoxModel",
            "_view_count": null,
            "_view_module": "@jupyter-widgets/controls",
            "_view_module_version": "1.5.0",
            "_view_name": "HBoxView",
            "box_style": "",
            "children": [
              "IPY_MODEL_a5e06cba9a9a467aab5b076d0875680e",
              "IPY_MODEL_bd43c9389beb4c6c97de93aff794085e",
              "IPY_MODEL_a105e0e1a7434fefba136ef6d18e4475"
            ],
            "layout": "IPY_MODEL_d6f8d52440134db4912bfb8577484b70"
          }
        },
        "a5e06cba9a9a467aab5b076d0875680e": {
          "model_module": "@jupyter-widgets/controls",
          "model_name": "HTMLModel",
          "model_module_version": "1.5.0",
          "state": {
            "_dom_classes": [],
            "_model_module": "@jupyter-widgets/controls",
            "_model_module_version": "1.5.0",
            "_model_name": "HTMLModel",
            "_view_count": null,
            "_view_module": "@jupyter-widgets/controls",
            "_view_module_version": "1.5.0",
            "_view_name": "HTMLView",
            "description": "",
            "description_tooltip": null,
            "layout": "IPY_MODEL_ae4c3f0e9a26490f9cf47373c4d49faf",
            "placeholder": "​",
            "style": "IPY_MODEL_38dd2431803e4e98922cd07d514f0b03",
            "value": "Validation DataLoader 0: 100%"
          }
        },
        "bd43c9389beb4c6c97de93aff794085e": {
          "model_module": "@jupyter-widgets/controls",
          "model_name": "FloatProgressModel",
          "model_module_version": "1.5.0",
          "state": {
            "_dom_classes": [],
            "_model_module": "@jupyter-widgets/controls",
            "_model_module_version": "1.5.0",
            "_model_name": "FloatProgressModel",
            "_view_count": null,
            "_view_module": "@jupyter-widgets/controls",
            "_view_module_version": "1.5.0",
            "_view_name": "ProgressView",
            "bar_style": "",
            "description": "",
            "description_tooltip": null,
            "layout": "IPY_MODEL_9d412ee8e4cc46fe980bfc092662c65e",
            "max": 79,
            "min": 0,
            "orientation": "horizontal",
            "style": "IPY_MODEL_379b7cc7c69743a2880c5df1491c756e",
            "value": 79
          }
        },
        "a105e0e1a7434fefba136ef6d18e4475": {
          "model_module": "@jupyter-widgets/controls",
          "model_name": "HTMLModel",
          "model_module_version": "1.5.0",
          "state": {
            "_dom_classes": [],
            "_model_module": "@jupyter-widgets/controls",
            "_model_module_version": "1.5.0",
            "_model_name": "HTMLModel",
            "_view_count": null,
            "_view_module": "@jupyter-widgets/controls",
            "_view_module_version": "1.5.0",
            "_view_name": "HTMLView",
            "description": "",
            "description_tooltip": null,
            "layout": "IPY_MODEL_f3b834180f444b3e896201db98d3e23c",
            "placeholder": "​",
            "style": "IPY_MODEL_abd828fa48c34bbf9e7260302ed89bc5",
            "value": " 79/79 [00:02&lt;00:00, 33.16it/s]"
          }
        },
        "d6f8d52440134db4912bfb8577484b70": {
          "model_module": "@jupyter-widgets/base",
          "model_name": "LayoutModel",
          "model_module_version": "1.2.0",
          "state": {
            "_model_module": "@jupyter-widgets/base",
            "_model_module_version": "1.2.0",
            "_model_name": "LayoutModel",
            "_view_count": null,
            "_view_module": "@jupyter-widgets/base",
            "_view_module_version": "1.2.0",
            "_view_name": "LayoutView",
            "align_content": null,
            "align_items": null,
            "align_self": null,
            "border": null,
            "bottom": null,
            "display": "inline-flex",
            "flex": null,
            "flex_flow": "row wrap",
            "grid_area": null,
            "grid_auto_columns": null,
            "grid_auto_flow": null,
            "grid_auto_rows": null,
            "grid_column": null,
            "grid_gap": null,
            "grid_row": null,
            "grid_template_areas": null,
            "grid_template_columns": null,
            "grid_template_rows": null,
            "height": null,
            "justify_content": null,
            "justify_items": null,
            "left": null,
            "margin": null,
            "max_height": null,
            "max_width": null,
            "min_height": null,
            "min_width": null,
            "object_fit": null,
            "object_position": null,
            "order": null,
            "overflow": null,
            "overflow_x": null,
            "overflow_y": null,
            "padding": null,
            "right": null,
            "top": null,
            "visibility": "hidden",
            "width": "100%"
          }
        },
        "ae4c3f0e9a26490f9cf47373c4d49faf": {
          "model_module": "@jupyter-widgets/base",
          "model_name": "LayoutModel",
          "model_module_version": "1.2.0",
          "state": {
            "_model_module": "@jupyter-widgets/base",
            "_model_module_version": "1.2.0",
            "_model_name": "LayoutModel",
            "_view_count": null,
            "_view_module": "@jupyter-widgets/base",
            "_view_module_version": "1.2.0",
            "_view_name": "LayoutView",
            "align_content": null,
            "align_items": null,
            "align_self": null,
            "border": null,
            "bottom": null,
            "display": null,
            "flex": null,
            "flex_flow": null,
            "grid_area": null,
            "grid_auto_columns": null,
            "grid_auto_flow": null,
            "grid_auto_rows": null,
            "grid_column": null,
            "grid_gap": null,
            "grid_row": null,
            "grid_template_areas": null,
            "grid_template_columns": null,
            "grid_template_rows": null,
            "height": null,
            "justify_content": null,
            "justify_items": null,
            "left": null,
            "margin": null,
            "max_height": null,
            "max_width": null,
            "min_height": null,
            "min_width": null,
            "object_fit": null,
            "object_position": null,
            "order": null,
            "overflow": null,
            "overflow_x": null,
            "overflow_y": null,
            "padding": null,
            "right": null,
            "top": null,
            "visibility": null,
            "width": null
          }
        },
        "38dd2431803e4e98922cd07d514f0b03": {
          "model_module": "@jupyter-widgets/controls",
          "model_name": "DescriptionStyleModel",
          "model_module_version": "1.5.0",
          "state": {
            "_model_module": "@jupyter-widgets/controls",
            "_model_module_version": "1.5.0",
            "_model_name": "DescriptionStyleModel",
            "_view_count": null,
            "_view_module": "@jupyter-widgets/base",
            "_view_module_version": "1.2.0",
            "_view_name": "StyleView",
            "description_width": ""
          }
        },
        "9d412ee8e4cc46fe980bfc092662c65e": {
          "model_module": "@jupyter-widgets/base",
          "model_name": "LayoutModel",
          "model_module_version": "1.2.0",
          "state": {
            "_model_module": "@jupyter-widgets/base",
            "_model_module_version": "1.2.0",
            "_model_name": "LayoutModel",
            "_view_count": null,
            "_view_module": "@jupyter-widgets/base",
            "_view_module_version": "1.2.0",
            "_view_name": "LayoutView",
            "align_content": null,
            "align_items": null,
            "align_self": null,
            "border": null,
            "bottom": null,
            "display": null,
            "flex": "2",
            "flex_flow": null,
            "grid_area": null,
            "grid_auto_columns": null,
            "grid_auto_flow": null,
            "grid_auto_rows": null,
            "grid_column": null,
            "grid_gap": null,
            "grid_row": null,
            "grid_template_areas": null,
            "grid_template_columns": null,
            "grid_template_rows": null,
            "height": null,
            "justify_content": null,
            "justify_items": null,
            "left": null,
            "margin": null,
            "max_height": null,
            "max_width": null,
            "min_height": null,
            "min_width": null,
            "object_fit": null,
            "object_position": null,
            "order": null,
            "overflow": null,
            "overflow_x": null,
            "overflow_y": null,
            "padding": null,
            "right": null,
            "top": null,
            "visibility": null,
            "width": null
          }
        },
        "379b7cc7c69743a2880c5df1491c756e": {
          "model_module": "@jupyter-widgets/controls",
          "model_name": "ProgressStyleModel",
          "model_module_version": "1.5.0",
          "state": {
            "_model_module": "@jupyter-widgets/controls",
            "_model_module_version": "1.5.0",
            "_model_name": "ProgressStyleModel",
            "_view_count": null,
            "_view_module": "@jupyter-widgets/base",
            "_view_module_version": "1.2.0",
            "_view_name": "StyleView",
            "bar_color": null,
            "description_width": ""
          }
        },
        "f3b834180f444b3e896201db98d3e23c": {
          "model_module": "@jupyter-widgets/base",
          "model_name": "LayoutModel",
          "model_module_version": "1.2.0",
          "state": {
            "_model_module": "@jupyter-widgets/base",
            "_model_module_version": "1.2.0",
            "_model_name": "LayoutModel",
            "_view_count": null,
            "_view_module": "@jupyter-widgets/base",
            "_view_module_version": "1.2.0",
            "_view_name": "LayoutView",
            "align_content": null,
            "align_items": null,
            "align_self": null,
            "border": null,
            "bottom": null,
            "display": null,
            "flex": null,
            "flex_flow": null,
            "grid_area": null,
            "grid_auto_columns": null,
            "grid_auto_flow": null,
            "grid_auto_rows": null,
            "grid_column": null,
            "grid_gap": null,
            "grid_row": null,
            "grid_template_areas": null,
            "grid_template_columns": null,
            "grid_template_rows": null,
            "height": null,
            "justify_content": null,
            "justify_items": null,
            "left": null,
            "margin": null,
            "max_height": null,
            "max_width": null,
            "min_height": null,
            "min_width": null,
            "object_fit": null,
            "object_position": null,
            "order": null,
            "overflow": null,
            "overflow_x": null,
            "overflow_y": null,
            "padding": null,
            "right": null,
            "top": null,
            "visibility": null,
            "width": null
          }
        },
        "abd828fa48c34bbf9e7260302ed89bc5": {
          "model_module": "@jupyter-widgets/controls",
          "model_name": "DescriptionStyleModel",
          "model_module_version": "1.5.0",
          "state": {
            "_model_module": "@jupyter-widgets/controls",
            "_model_module_version": "1.5.0",
            "_model_name": "DescriptionStyleModel",
            "_view_count": null,
            "_view_module": "@jupyter-widgets/base",
            "_view_module_version": "1.2.0",
            "_view_name": "StyleView",
            "description_width": ""
          }
        },
        "b114731cf93044d1b9457a1003d91417": {
          "model_module": "@jupyter-widgets/controls",
          "model_name": "HBoxModel",
          "model_module_version": "1.5.0",
          "state": {
            "_dom_classes": [],
            "_model_module": "@jupyter-widgets/controls",
            "_model_module_version": "1.5.0",
            "_model_name": "HBoxModel",
            "_view_count": null,
            "_view_module": "@jupyter-widgets/controls",
            "_view_module_version": "1.5.0",
            "_view_name": "HBoxView",
            "box_style": "",
            "children": [
              "IPY_MODEL_f467cb49c5a340e99a8878ef132d2cb3",
              "IPY_MODEL_7a4114d24728445fb130896984451031",
              "IPY_MODEL_b82173ac82d94add8e7758ea96479357"
            ],
            "layout": "IPY_MODEL_8058942c09db4a55a5901c08fd43a58f"
          }
        },
        "f467cb49c5a340e99a8878ef132d2cb3": {
          "model_module": "@jupyter-widgets/controls",
          "model_name": "HTMLModel",
          "model_module_version": "1.5.0",
          "state": {
            "_dom_classes": [],
            "_model_module": "@jupyter-widgets/controls",
            "_model_module_version": "1.5.0",
            "_model_name": "HTMLModel",
            "_view_count": null,
            "_view_module": "@jupyter-widgets/controls",
            "_view_module_version": "1.5.0",
            "_view_name": "HTMLView",
            "description": "",
            "description_tooltip": null,
            "layout": "IPY_MODEL_f230577ee43d42e38250c22f693d79c4",
            "placeholder": "​",
            "style": "IPY_MODEL_3435ee0f46dc47d2bd67feb35365e9f4",
            "value": "Validation DataLoader 0: 100%"
          }
        },
        "7a4114d24728445fb130896984451031": {
          "model_module": "@jupyter-widgets/controls",
          "model_name": "FloatProgressModel",
          "model_module_version": "1.5.0",
          "state": {
            "_dom_classes": [],
            "_model_module": "@jupyter-widgets/controls",
            "_model_module_version": "1.5.0",
            "_model_name": "FloatProgressModel",
            "_view_count": null,
            "_view_module": "@jupyter-widgets/controls",
            "_view_module_version": "1.5.0",
            "_view_name": "ProgressView",
            "bar_style": "",
            "description": "",
            "description_tooltip": null,
            "layout": "IPY_MODEL_2e82de5bf9b5439491c81dfc44ff1254",
            "max": 79,
            "min": 0,
            "orientation": "horizontal",
            "style": "IPY_MODEL_50a51a4f90664187ba877b1188eb1850",
            "value": 79
          }
        },
        "b82173ac82d94add8e7758ea96479357": {
          "model_module": "@jupyter-widgets/controls",
          "model_name": "HTMLModel",
          "model_module_version": "1.5.0",
          "state": {
            "_dom_classes": [],
            "_model_module": "@jupyter-widgets/controls",
            "_model_module_version": "1.5.0",
            "_model_name": "HTMLModel",
            "_view_count": null,
            "_view_module": "@jupyter-widgets/controls",
            "_view_module_version": "1.5.0",
            "_view_name": "HTMLView",
            "description": "",
            "description_tooltip": null,
            "layout": "IPY_MODEL_b19a7f715bcf42bc8812e0e7486b2c65",
            "placeholder": "​",
            "style": "IPY_MODEL_358426db558b4b909a779e3dcc9e69f9",
            "value": " 79/79 [00:02&lt;00:00, 33.24it/s]"
          }
        },
        "8058942c09db4a55a5901c08fd43a58f": {
          "model_module": "@jupyter-widgets/base",
          "model_name": "LayoutModel",
          "model_module_version": "1.2.0",
          "state": {
            "_model_module": "@jupyter-widgets/base",
            "_model_module_version": "1.2.0",
            "_model_name": "LayoutModel",
            "_view_count": null,
            "_view_module": "@jupyter-widgets/base",
            "_view_module_version": "1.2.0",
            "_view_name": "LayoutView",
            "align_content": null,
            "align_items": null,
            "align_self": null,
            "border": null,
            "bottom": null,
            "display": "inline-flex",
            "flex": null,
            "flex_flow": "row wrap",
            "grid_area": null,
            "grid_auto_columns": null,
            "grid_auto_flow": null,
            "grid_auto_rows": null,
            "grid_column": null,
            "grid_gap": null,
            "grid_row": null,
            "grid_template_areas": null,
            "grid_template_columns": null,
            "grid_template_rows": null,
            "height": null,
            "justify_content": null,
            "justify_items": null,
            "left": null,
            "margin": null,
            "max_height": null,
            "max_width": null,
            "min_height": null,
            "min_width": null,
            "object_fit": null,
            "object_position": null,
            "order": null,
            "overflow": null,
            "overflow_x": null,
            "overflow_y": null,
            "padding": null,
            "right": null,
            "top": null,
            "visibility": "hidden",
            "width": "100%"
          }
        },
        "f230577ee43d42e38250c22f693d79c4": {
          "model_module": "@jupyter-widgets/base",
          "model_name": "LayoutModel",
          "model_module_version": "1.2.0",
          "state": {
            "_model_module": "@jupyter-widgets/base",
            "_model_module_version": "1.2.0",
            "_model_name": "LayoutModel",
            "_view_count": null,
            "_view_module": "@jupyter-widgets/base",
            "_view_module_version": "1.2.0",
            "_view_name": "LayoutView",
            "align_content": null,
            "align_items": null,
            "align_self": null,
            "border": null,
            "bottom": null,
            "display": null,
            "flex": null,
            "flex_flow": null,
            "grid_area": null,
            "grid_auto_columns": null,
            "grid_auto_flow": null,
            "grid_auto_rows": null,
            "grid_column": null,
            "grid_gap": null,
            "grid_row": null,
            "grid_template_areas": null,
            "grid_template_columns": null,
            "grid_template_rows": null,
            "height": null,
            "justify_content": null,
            "justify_items": null,
            "left": null,
            "margin": null,
            "max_height": null,
            "max_width": null,
            "min_height": null,
            "min_width": null,
            "object_fit": null,
            "object_position": null,
            "order": null,
            "overflow": null,
            "overflow_x": null,
            "overflow_y": null,
            "padding": null,
            "right": null,
            "top": null,
            "visibility": null,
            "width": null
          }
        },
        "3435ee0f46dc47d2bd67feb35365e9f4": {
          "model_module": "@jupyter-widgets/controls",
          "model_name": "DescriptionStyleModel",
          "model_module_version": "1.5.0",
          "state": {
            "_model_module": "@jupyter-widgets/controls",
            "_model_module_version": "1.5.0",
            "_model_name": "DescriptionStyleModel",
            "_view_count": null,
            "_view_module": "@jupyter-widgets/base",
            "_view_module_version": "1.2.0",
            "_view_name": "StyleView",
            "description_width": ""
          }
        },
        "2e82de5bf9b5439491c81dfc44ff1254": {
          "model_module": "@jupyter-widgets/base",
          "model_name": "LayoutModel",
          "model_module_version": "1.2.0",
          "state": {
            "_model_module": "@jupyter-widgets/base",
            "_model_module_version": "1.2.0",
            "_model_name": "LayoutModel",
            "_view_count": null,
            "_view_module": "@jupyter-widgets/base",
            "_view_module_version": "1.2.0",
            "_view_name": "LayoutView",
            "align_content": null,
            "align_items": null,
            "align_self": null,
            "border": null,
            "bottom": null,
            "display": null,
            "flex": "2",
            "flex_flow": null,
            "grid_area": null,
            "grid_auto_columns": null,
            "grid_auto_flow": null,
            "grid_auto_rows": null,
            "grid_column": null,
            "grid_gap": null,
            "grid_row": null,
            "grid_template_areas": null,
            "grid_template_columns": null,
            "grid_template_rows": null,
            "height": null,
            "justify_content": null,
            "justify_items": null,
            "left": null,
            "margin": null,
            "max_height": null,
            "max_width": null,
            "min_height": null,
            "min_width": null,
            "object_fit": null,
            "object_position": null,
            "order": null,
            "overflow": null,
            "overflow_x": null,
            "overflow_y": null,
            "padding": null,
            "right": null,
            "top": null,
            "visibility": null,
            "width": null
          }
        },
        "50a51a4f90664187ba877b1188eb1850": {
          "model_module": "@jupyter-widgets/controls",
          "model_name": "ProgressStyleModel",
          "model_module_version": "1.5.0",
          "state": {
            "_model_module": "@jupyter-widgets/controls",
            "_model_module_version": "1.5.0",
            "_model_name": "ProgressStyleModel",
            "_view_count": null,
            "_view_module": "@jupyter-widgets/base",
            "_view_module_version": "1.2.0",
            "_view_name": "StyleView",
            "bar_color": null,
            "description_width": ""
          }
        },
        "b19a7f715bcf42bc8812e0e7486b2c65": {
          "model_module": "@jupyter-widgets/base",
          "model_name": "LayoutModel",
          "model_module_version": "1.2.0",
          "state": {
            "_model_module": "@jupyter-widgets/base",
            "_model_module_version": "1.2.0",
            "_model_name": "LayoutModel",
            "_view_count": null,
            "_view_module": "@jupyter-widgets/base",
            "_view_module_version": "1.2.0",
            "_view_name": "LayoutView",
            "align_content": null,
            "align_items": null,
            "align_self": null,
            "border": null,
            "bottom": null,
            "display": null,
            "flex": null,
            "flex_flow": null,
            "grid_area": null,
            "grid_auto_columns": null,
            "grid_auto_flow": null,
            "grid_auto_rows": null,
            "grid_column": null,
            "grid_gap": null,
            "grid_row": null,
            "grid_template_areas": null,
            "grid_template_columns": null,
            "grid_template_rows": null,
            "height": null,
            "justify_content": null,
            "justify_items": null,
            "left": null,
            "margin": null,
            "max_height": null,
            "max_width": null,
            "min_height": null,
            "min_width": null,
            "object_fit": null,
            "object_position": null,
            "order": null,
            "overflow": null,
            "overflow_x": null,
            "overflow_y": null,
            "padding": null,
            "right": null,
            "top": null,
            "visibility": null,
            "width": null
          }
        },
        "358426db558b4b909a779e3dcc9e69f9": {
          "model_module": "@jupyter-widgets/controls",
          "model_name": "DescriptionStyleModel",
          "model_module_version": "1.5.0",
          "state": {
            "_model_module": "@jupyter-widgets/controls",
            "_model_module_version": "1.5.0",
            "_model_name": "DescriptionStyleModel",
            "_view_count": null,
            "_view_module": "@jupyter-widgets/base",
            "_view_module_version": "1.2.0",
            "_view_name": "StyleView",
            "description_width": ""
          }
        },
        "c510f3ba896d42c28c96320b87afc42f": {
          "model_module": "@jupyter-widgets/controls",
          "model_name": "HBoxModel",
          "model_module_version": "1.5.0",
          "state": {
            "_dom_classes": [],
            "_model_module": "@jupyter-widgets/controls",
            "_model_module_version": "1.5.0",
            "_model_name": "HBoxModel",
            "_view_count": null,
            "_view_module": "@jupyter-widgets/controls",
            "_view_module_version": "1.5.0",
            "_view_name": "HBoxView",
            "box_style": "",
            "children": [
              "IPY_MODEL_8e28a83fb1ee4bd19b9ed3c2d3ff2da5",
              "IPY_MODEL_142cc1991f094d0185e73565a9229a0e",
              "IPY_MODEL_ea49e7a7edd34e6fb7a7b6a58d47a422"
            ],
            "layout": "IPY_MODEL_c89dc696fcc6455cbf5bbbe100f06cba"
          }
        },
        "8e28a83fb1ee4bd19b9ed3c2d3ff2da5": {
          "model_module": "@jupyter-widgets/controls",
          "model_name": "HTMLModel",
          "model_module_version": "1.5.0",
          "state": {
            "_dom_classes": [],
            "_model_module": "@jupyter-widgets/controls",
            "_model_module_version": "1.5.0",
            "_model_name": "HTMLModel",
            "_view_count": null,
            "_view_module": "@jupyter-widgets/controls",
            "_view_module_version": "1.5.0",
            "_view_name": "HTMLView",
            "description": "",
            "description_tooltip": null,
            "layout": "IPY_MODEL_3741c533ff4f48d2baccf2662ecbd344",
            "placeholder": "​",
            "style": "IPY_MODEL_b8365d24926d435b9ad8141e5555e91c",
            "value": "Validation DataLoader 0: 100%"
          }
        },
        "142cc1991f094d0185e73565a9229a0e": {
          "model_module": "@jupyter-widgets/controls",
          "model_name": "FloatProgressModel",
          "model_module_version": "1.5.0",
          "state": {
            "_dom_classes": [],
            "_model_module": "@jupyter-widgets/controls",
            "_model_module_version": "1.5.0",
            "_model_name": "FloatProgressModel",
            "_view_count": null,
            "_view_module": "@jupyter-widgets/controls",
            "_view_module_version": "1.5.0",
            "_view_name": "ProgressView",
            "bar_style": "",
            "description": "",
            "description_tooltip": null,
            "layout": "IPY_MODEL_5738ba7f379245fc95954547c37b1e83",
            "max": 79,
            "min": 0,
            "orientation": "horizontal",
            "style": "IPY_MODEL_10cfc291683a403e9e66791683d29c47",
            "value": 79
          }
        },
        "ea49e7a7edd34e6fb7a7b6a58d47a422": {
          "model_module": "@jupyter-widgets/controls",
          "model_name": "HTMLModel",
          "model_module_version": "1.5.0",
          "state": {
            "_dom_classes": [],
            "_model_module": "@jupyter-widgets/controls",
            "_model_module_version": "1.5.0",
            "_model_name": "HTMLModel",
            "_view_count": null,
            "_view_module": "@jupyter-widgets/controls",
            "_view_module_version": "1.5.0",
            "_view_name": "HTMLView",
            "description": "",
            "description_tooltip": null,
            "layout": "IPY_MODEL_8b09ae917f294a4887ad4f74d08c9edb",
            "placeholder": "​",
            "style": "IPY_MODEL_a9baae5eb9d841a2935aa6f25b7505ed",
            "value": " 79/79 [00:01&lt;00:00, 40.86it/s]"
          }
        },
        "c89dc696fcc6455cbf5bbbe100f06cba": {
          "model_module": "@jupyter-widgets/base",
          "model_name": "LayoutModel",
          "model_module_version": "1.2.0",
          "state": {
            "_model_module": "@jupyter-widgets/base",
            "_model_module_version": "1.2.0",
            "_model_name": "LayoutModel",
            "_view_count": null,
            "_view_module": "@jupyter-widgets/base",
            "_view_module_version": "1.2.0",
            "_view_name": "LayoutView",
            "align_content": null,
            "align_items": null,
            "align_self": null,
            "border": null,
            "bottom": null,
            "display": "inline-flex",
            "flex": null,
            "flex_flow": "row wrap",
            "grid_area": null,
            "grid_auto_columns": null,
            "grid_auto_flow": null,
            "grid_auto_rows": null,
            "grid_column": null,
            "grid_gap": null,
            "grid_row": null,
            "grid_template_areas": null,
            "grid_template_columns": null,
            "grid_template_rows": null,
            "height": null,
            "justify_content": null,
            "justify_items": null,
            "left": null,
            "margin": null,
            "max_height": null,
            "max_width": null,
            "min_height": null,
            "min_width": null,
            "object_fit": null,
            "object_position": null,
            "order": null,
            "overflow": null,
            "overflow_x": null,
            "overflow_y": null,
            "padding": null,
            "right": null,
            "top": null,
            "visibility": "hidden",
            "width": "100%"
          }
        },
        "3741c533ff4f48d2baccf2662ecbd344": {
          "model_module": "@jupyter-widgets/base",
          "model_name": "LayoutModel",
          "model_module_version": "1.2.0",
          "state": {
            "_model_module": "@jupyter-widgets/base",
            "_model_module_version": "1.2.0",
            "_model_name": "LayoutModel",
            "_view_count": null,
            "_view_module": "@jupyter-widgets/base",
            "_view_module_version": "1.2.0",
            "_view_name": "LayoutView",
            "align_content": null,
            "align_items": null,
            "align_self": null,
            "border": null,
            "bottom": null,
            "display": null,
            "flex": null,
            "flex_flow": null,
            "grid_area": null,
            "grid_auto_columns": null,
            "grid_auto_flow": null,
            "grid_auto_rows": null,
            "grid_column": null,
            "grid_gap": null,
            "grid_row": null,
            "grid_template_areas": null,
            "grid_template_columns": null,
            "grid_template_rows": null,
            "height": null,
            "justify_content": null,
            "justify_items": null,
            "left": null,
            "margin": null,
            "max_height": null,
            "max_width": null,
            "min_height": null,
            "min_width": null,
            "object_fit": null,
            "object_position": null,
            "order": null,
            "overflow": null,
            "overflow_x": null,
            "overflow_y": null,
            "padding": null,
            "right": null,
            "top": null,
            "visibility": null,
            "width": null
          }
        },
        "b8365d24926d435b9ad8141e5555e91c": {
          "model_module": "@jupyter-widgets/controls",
          "model_name": "DescriptionStyleModel",
          "model_module_version": "1.5.0",
          "state": {
            "_model_module": "@jupyter-widgets/controls",
            "_model_module_version": "1.5.0",
            "_model_name": "DescriptionStyleModel",
            "_view_count": null,
            "_view_module": "@jupyter-widgets/base",
            "_view_module_version": "1.2.0",
            "_view_name": "StyleView",
            "description_width": ""
          }
        },
        "5738ba7f379245fc95954547c37b1e83": {
          "model_module": "@jupyter-widgets/base",
          "model_name": "LayoutModel",
          "model_module_version": "1.2.0",
          "state": {
            "_model_module": "@jupyter-widgets/base",
            "_model_module_version": "1.2.0",
            "_model_name": "LayoutModel",
            "_view_count": null,
            "_view_module": "@jupyter-widgets/base",
            "_view_module_version": "1.2.0",
            "_view_name": "LayoutView",
            "align_content": null,
            "align_items": null,
            "align_self": null,
            "border": null,
            "bottom": null,
            "display": null,
            "flex": "2",
            "flex_flow": null,
            "grid_area": null,
            "grid_auto_columns": null,
            "grid_auto_flow": null,
            "grid_auto_rows": null,
            "grid_column": null,
            "grid_gap": null,
            "grid_row": null,
            "grid_template_areas": null,
            "grid_template_columns": null,
            "grid_template_rows": null,
            "height": null,
            "justify_content": null,
            "justify_items": null,
            "left": null,
            "margin": null,
            "max_height": null,
            "max_width": null,
            "min_height": null,
            "min_width": null,
            "object_fit": null,
            "object_position": null,
            "order": null,
            "overflow": null,
            "overflow_x": null,
            "overflow_y": null,
            "padding": null,
            "right": null,
            "top": null,
            "visibility": null,
            "width": null
          }
        },
        "10cfc291683a403e9e66791683d29c47": {
          "model_module": "@jupyter-widgets/controls",
          "model_name": "ProgressStyleModel",
          "model_module_version": "1.5.0",
          "state": {
            "_model_module": "@jupyter-widgets/controls",
            "_model_module_version": "1.5.0",
            "_model_name": "ProgressStyleModel",
            "_view_count": null,
            "_view_module": "@jupyter-widgets/base",
            "_view_module_version": "1.2.0",
            "_view_name": "StyleView",
            "bar_color": null,
            "description_width": ""
          }
        },
        "8b09ae917f294a4887ad4f74d08c9edb": {
          "model_module": "@jupyter-widgets/base",
          "model_name": "LayoutModel",
          "model_module_version": "1.2.0",
          "state": {
            "_model_module": "@jupyter-widgets/base",
            "_model_module_version": "1.2.0",
            "_model_name": "LayoutModel",
            "_view_count": null,
            "_view_module": "@jupyter-widgets/base",
            "_view_module_version": "1.2.0",
            "_view_name": "LayoutView",
            "align_content": null,
            "align_items": null,
            "align_self": null,
            "border": null,
            "bottom": null,
            "display": null,
            "flex": null,
            "flex_flow": null,
            "grid_area": null,
            "grid_auto_columns": null,
            "grid_auto_flow": null,
            "grid_auto_rows": null,
            "grid_column": null,
            "grid_gap": null,
            "grid_row": null,
            "grid_template_areas": null,
            "grid_template_columns": null,
            "grid_template_rows": null,
            "height": null,
            "justify_content": null,
            "justify_items": null,
            "left": null,
            "margin": null,
            "max_height": null,
            "max_width": null,
            "min_height": null,
            "min_width": null,
            "object_fit": null,
            "object_position": null,
            "order": null,
            "overflow": null,
            "overflow_x": null,
            "overflow_y": null,
            "padding": null,
            "right": null,
            "top": null,
            "visibility": null,
            "width": null
          }
        },
        "a9baae5eb9d841a2935aa6f25b7505ed": {
          "model_module": "@jupyter-widgets/controls",
          "model_name": "DescriptionStyleModel",
          "model_module_version": "1.5.0",
          "state": {
            "_model_module": "@jupyter-widgets/controls",
            "_model_module_version": "1.5.0",
            "_model_name": "DescriptionStyleModel",
            "_view_count": null,
            "_view_module": "@jupyter-widgets/base",
            "_view_module_version": "1.2.0",
            "_view_name": "StyleView",
            "description_width": ""
          }
        },
        "c6d93ca9a2404a35954a62ac614dd8f5": {
          "model_module": "@jupyter-widgets/controls",
          "model_name": "HBoxModel",
          "model_module_version": "1.5.0",
          "state": {
            "_dom_classes": [],
            "_model_module": "@jupyter-widgets/controls",
            "_model_module_version": "1.5.0",
            "_model_name": "HBoxModel",
            "_view_count": null,
            "_view_module": "@jupyter-widgets/controls",
            "_view_module_version": "1.5.0",
            "_view_name": "HBoxView",
            "box_style": "",
            "children": [
              "IPY_MODEL_592aab4915914e29be108c0e9e667e40",
              "IPY_MODEL_debd6e3e5e3c48a0825fb1f91c93d377",
              "IPY_MODEL_57b53af4124741fe8ad4312e8895b2ca"
            ],
            "layout": "IPY_MODEL_691d52b34d5c46a2a3dcae5385a7f3a7"
          }
        },
        "592aab4915914e29be108c0e9e667e40": {
          "model_module": "@jupyter-widgets/controls",
          "model_name": "HTMLModel",
          "model_module_version": "1.5.0",
          "state": {
            "_dom_classes": [],
            "_model_module": "@jupyter-widgets/controls",
            "_model_module_version": "1.5.0",
            "_model_name": "HTMLModel",
            "_view_count": null,
            "_view_module": "@jupyter-widgets/controls",
            "_view_module_version": "1.5.0",
            "_view_name": "HTMLView",
            "description": "",
            "description_tooltip": null,
            "layout": "IPY_MODEL_30e181124e014aefb5a3e221900fa535",
            "placeholder": "​",
            "style": "IPY_MODEL_9931177dd4b0458c8aeb1928de373e03",
            "value": "Testing DataLoader 0: 100%"
          }
        },
        "debd6e3e5e3c48a0825fb1f91c93d377": {
          "model_module": "@jupyter-widgets/controls",
          "model_name": "FloatProgressModel",
          "model_module_version": "1.5.0",
          "state": {
            "_dom_classes": [],
            "_model_module": "@jupyter-widgets/controls",
            "_model_module_version": "1.5.0",
            "_model_name": "FloatProgressModel",
            "_view_count": null,
            "_view_module": "@jupyter-widgets/controls",
            "_view_module_version": "1.5.0",
            "_view_name": "ProgressView",
            "bar_style": "success",
            "description": "",
            "description_tooltip": null,
            "layout": "IPY_MODEL_fe5e78d41a0f4d3d9dc3341f74e8ef9c",
            "max": 79,
            "min": 0,
            "orientation": "horizontal",
            "style": "IPY_MODEL_f89030511e2546018dfbf05f4df89cbb",
            "value": 79
          }
        },
        "57b53af4124741fe8ad4312e8895b2ca": {
          "model_module": "@jupyter-widgets/controls",
          "model_name": "HTMLModel",
          "model_module_version": "1.5.0",
          "state": {
            "_dom_classes": [],
            "_model_module": "@jupyter-widgets/controls",
            "_model_module_version": "1.5.0",
            "_model_name": "HTMLModel",
            "_view_count": null,
            "_view_module": "@jupyter-widgets/controls",
            "_view_module_version": "1.5.0",
            "_view_name": "HTMLView",
            "description": "",
            "description_tooltip": null,
            "layout": "IPY_MODEL_9e2c3d08c58a4b8b9cbd7aa181a3f481",
            "placeholder": "​",
            "style": "IPY_MODEL_275b62b7025f4caba24fd6d147c0082a",
            "value": " 79/79 [00:01&lt;00:00, 69.39it/s]"
          }
        },
        "691d52b34d5c46a2a3dcae5385a7f3a7": {
          "model_module": "@jupyter-widgets/base",
          "model_name": "LayoutModel",
          "model_module_version": "1.2.0",
          "state": {
            "_model_module": "@jupyter-widgets/base",
            "_model_module_version": "1.2.0",
            "_model_name": "LayoutModel",
            "_view_count": null,
            "_view_module": "@jupyter-widgets/base",
            "_view_module_version": "1.2.0",
            "_view_name": "LayoutView",
            "align_content": null,
            "align_items": null,
            "align_self": null,
            "border": null,
            "bottom": null,
            "display": "inline-flex",
            "flex": null,
            "flex_flow": "row wrap",
            "grid_area": null,
            "grid_auto_columns": null,
            "grid_auto_flow": null,
            "grid_auto_rows": null,
            "grid_column": null,
            "grid_gap": null,
            "grid_row": null,
            "grid_template_areas": null,
            "grid_template_columns": null,
            "grid_template_rows": null,
            "height": null,
            "justify_content": null,
            "justify_items": null,
            "left": null,
            "margin": null,
            "max_height": null,
            "max_width": null,
            "min_height": null,
            "min_width": null,
            "object_fit": null,
            "object_position": null,
            "order": null,
            "overflow": null,
            "overflow_x": null,
            "overflow_y": null,
            "padding": null,
            "right": null,
            "top": null,
            "visibility": null,
            "width": "100%"
          }
        },
        "30e181124e014aefb5a3e221900fa535": {
          "model_module": "@jupyter-widgets/base",
          "model_name": "LayoutModel",
          "model_module_version": "1.2.0",
          "state": {
            "_model_module": "@jupyter-widgets/base",
            "_model_module_version": "1.2.0",
            "_model_name": "LayoutModel",
            "_view_count": null,
            "_view_module": "@jupyter-widgets/base",
            "_view_module_version": "1.2.0",
            "_view_name": "LayoutView",
            "align_content": null,
            "align_items": null,
            "align_self": null,
            "border": null,
            "bottom": null,
            "display": null,
            "flex": null,
            "flex_flow": null,
            "grid_area": null,
            "grid_auto_columns": null,
            "grid_auto_flow": null,
            "grid_auto_rows": null,
            "grid_column": null,
            "grid_gap": null,
            "grid_row": null,
            "grid_template_areas": null,
            "grid_template_columns": null,
            "grid_template_rows": null,
            "height": null,
            "justify_content": null,
            "justify_items": null,
            "left": null,
            "margin": null,
            "max_height": null,
            "max_width": null,
            "min_height": null,
            "min_width": null,
            "object_fit": null,
            "object_position": null,
            "order": null,
            "overflow": null,
            "overflow_x": null,
            "overflow_y": null,
            "padding": null,
            "right": null,
            "top": null,
            "visibility": null,
            "width": null
          }
        },
        "9931177dd4b0458c8aeb1928de373e03": {
          "model_module": "@jupyter-widgets/controls",
          "model_name": "DescriptionStyleModel",
          "model_module_version": "1.5.0",
          "state": {
            "_model_module": "@jupyter-widgets/controls",
            "_model_module_version": "1.5.0",
            "_model_name": "DescriptionStyleModel",
            "_view_count": null,
            "_view_module": "@jupyter-widgets/base",
            "_view_module_version": "1.2.0",
            "_view_name": "StyleView",
            "description_width": ""
          }
        },
        "fe5e78d41a0f4d3d9dc3341f74e8ef9c": {
          "model_module": "@jupyter-widgets/base",
          "model_name": "LayoutModel",
          "model_module_version": "1.2.0",
          "state": {
            "_model_module": "@jupyter-widgets/base",
            "_model_module_version": "1.2.0",
            "_model_name": "LayoutModel",
            "_view_count": null,
            "_view_module": "@jupyter-widgets/base",
            "_view_module_version": "1.2.0",
            "_view_name": "LayoutView",
            "align_content": null,
            "align_items": null,
            "align_self": null,
            "border": null,
            "bottom": null,
            "display": null,
            "flex": "2",
            "flex_flow": null,
            "grid_area": null,
            "grid_auto_columns": null,
            "grid_auto_flow": null,
            "grid_auto_rows": null,
            "grid_column": null,
            "grid_gap": null,
            "grid_row": null,
            "grid_template_areas": null,
            "grid_template_columns": null,
            "grid_template_rows": null,
            "height": null,
            "justify_content": null,
            "justify_items": null,
            "left": null,
            "margin": null,
            "max_height": null,
            "max_width": null,
            "min_height": null,
            "min_width": null,
            "object_fit": null,
            "object_position": null,
            "order": null,
            "overflow": null,
            "overflow_x": null,
            "overflow_y": null,
            "padding": null,
            "right": null,
            "top": null,
            "visibility": null,
            "width": null
          }
        },
        "f89030511e2546018dfbf05f4df89cbb": {
          "model_module": "@jupyter-widgets/controls",
          "model_name": "ProgressStyleModel",
          "model_module_version": "1.5.0",
          "state": {
            "_model_module": "@jupyter-widgets/controls",
            "_model_module_version": "1.5.0",
            "_model_name": "ProgressStyleModel",
            "_view_count": null,
            "_view_module": "@jupyter-widgets/base",
            "_view_module_version": "1.2.0",
            "_view_name": "StyleView",
            "bar_color": null,
            "description_width": ""
          }
        },
        "9e2c3d08c58a4b8b9cbd7aa181a3f481": {
          "model_module": "@jupyter-widgets/base",
          "model_name": "LayoutModel",
          "model_module_version": "1.2.0",
          "state": {
            "_model_module": "@jupyter-widgets/base",
            "_model_module_version": "1.2.0",
            "_model_name": "LayoutModel",
            "_view_count": null,
            "_view_module": "@jupyter-widgets/base",
            "_view_module_version": "1.2.0",
            "_view_name": "LayoutView",
            "align_content": null,
            "align_items": null,
            "align_self": null,
            "border": null,
            "bottom": null,
            "display": null,
            "flex": null,
            "flex_flow": null,
            "grid_area": null,
            "grid_auto_columns": null,
            "grid_auto_flow": null,
            "grid_auto_rows": null,
            "grid_column": null,
            "grid_gap": null,
            "grid_row": null,
            "grid_template_areas": null,
            "grid_template_columns": null,
            "grid_template_rows": null,
            "height": null,
            "justify_content": null,
            "justify_items": null,
            "left": null,
            "margin": null,
            "max_height": null,
            "max_width": null,
            "min_height": null,
            "min_width": null,
            "object_fit": null,
            "object_position": null,
            "order": null,
            "overflow": null,
            "overflow_x": null,
            "overflow_y": null,
            "padding": null,
            "right": null,
            "top": null,
            "visibility": null,
            "width": null
          }
        },
        "275b62b7025f4caba24fd6d147c0082a": {
          "model_module": "@jupyter-widgets/controls",
          "model_name": "DescriptionStyleModel",
          "model_module_version": "1.5.0",
          "state": {
            "_model_module": "@jupyter-widgets/controls",
            "_model_module_version": "1.5.0",
            "_model_name": "DescriptionStyleModel",
            "_view_count": null,
            "_view_module": "@jupyter-widgets/base",
            "_view_module_version": "1.2.0",
            "_view_name": "StyleView",
            "description_width": ""
          }
        }
      }
    }
  },
  "cells": [
    {
      "cell_type": "markdown",
      "metadata": {
        "id": "view-in-github",
        "colab_type": "text"
      },
      "source": [
        "<a href=\"https://colab.research.google.com/github/AlexandrWhite/Magistr2Colab/blob/main/%D0%91%D0%B5%D0%BB%D1%8B%D0%B9_%D0%90_%D0%A0%D0%B0%D1%81%D0%BF%D0%BE%D0%B7%D0%BD%D0%B0%D0%B2%D0%B0%D0%BD%D0%B8%D0%B5_%D0%BE%D0%B4%D0%B5%D0%B6%D0%B4%D1%8B(%D0%94%D0%BE%D0%BE%D0%B1%D1%83%D1%87%D0%B5%D0%BD%D0%B8%D0%B5)_%22PyTorch_FCN_ipynb%22.ipynb\" target=\"_parent\"><img src=\"https://colab.research.google.com/assets/colab-badge.svg\" alt=\"Open In Colab\"/></a>"
      ]
    },
    {
      "cell_type": "markdown",
      "source": [
        "# Введение в Deep Learning. PyTorch Lightning\n",
        "\n",
        "## Вступление\n",
        "Сегодня вы узнаете, как обучать нейронные сети в библиотеке **PyTorch Lightning**, позволяющей сократить количество кода, которое нам приходится писать на **PyTorch**.\n",
        "\n",
        "Что мы сделаем:\n",
        "\n",
        "* узнаем как правильно загружать данные в pytorch\n",
        "* сконструируем нашу первую нейронную сеть\n",
        "* обучим ее\n",
        "* оценим качество готовой модели"
      ],
      "metadata": {
        "collapsed": false,
        "id": "UWhjEo_ny9_u"
      }
    },
    {
      "cell_type": "code",
      "execution_count": 2,
      "outputs": [
        {
          "output_type": "stream",
          "name": "stdout",
          "text": [
            "Collecting pytorch_lightning\n",
            "  Downloading pytorch_lightning-2.0.9.post0-py3-none-any.whl (727 kB)\n",
            "\u001b[2K     \u001b[90m━━━━━━━━━━━━━━━━━━━━━━━━━━━━━━━━━━━━━━\u001b[0m \u001b[32m727.7/727.7 kB\u001b[0m \u001b[31m12.4 MB/s\u001b[0m eta \u001b[36m0:00:00\u001b[0m\n",
            "\u001b[?25hCollecting torchmetrics\n",
            "  Downloading torchmetrics-1.2.0-py3-none-any.whl (805 kB)\n",
            "\u001b[2K     \u001b[90m━━━━━━━━━━━━━━━━━━━━━━━━━━━━━━━━━━━━━━\u001b[0m \u001b[32m805.2/805.2 kB\u001b[0m \u001b[31m42.0 MB/s\u001b[0m eta \u001b[36m0:00:00\u001b[0m\n",
            "\u001b[?25hRequirement already satisfied: numpy>=1.17.2 in /usr/local/lib/python3.10/dist-packages (from pytorch_lightning) (1.23.5)\n",
            "Requirement already satisfied: torch>=1.11.0 in /usr/local/lib/python3.10/dist-packages (from pytorch_lightning) (2.0.1+cu118)\n",
            "Requirement already satisfied: tqdm>=4.57.0 in /usr/local/lib/python3.10/dist-packages (from pytorch_lightning) (4.66.1)\n",
            "Requirement already satisfied: PyYAML>=5.4 in /usr/local/lib/python3.10/dist-packages (from pytorch_lightning) (6.0.1)\n",
            "Requirement already satisfied: fsspec[http]>2021.06.0 in /usr/local/lib/python3.10/dist-packages (from pytorch_lightning) (2023.6.0)\n",
            "Requirement already satisfied: packaging>=17.1 in /usr/local/lib/python3.10/dist-packages (from pytorch_lightning) (23.1)\n",
            "Requirement already satisfied: typing-extensions>=4.0.0 in /usr/local/lib/python3.10/dist-packages (from pytorch_lightning) (4.5.0)\n",
            "Collecting lightning-utilities>=0.7.0 (from pytorch_lightning)\n",
            "  Downloading lightning_utilities-0.9.0-py3-none-any.whl (23 kB)\n",
            "Requirement already satisfied: requests in /usr/local/lib/python3.10/dist-packages (from fsspec[http]>2021.06.0->pytorch_lightning) (2.31.0)\n",
            "Requirement already satisfied: aiohttp!=4.0.0a0,!=4.0.0a1 in /usr/local/lib/python3.10/dist-packages (from fsspec[http]>2021.06.0->pytorch_lightning) (3.8.5)\n",
            "Requirement already satisfied: filelock in /usr/local/lib/python3.10/dist-packages (from torch>=1.11.0->pytorch_lightning) (3.12.4)\n",
            "Requirement already satisfied: sympy in /usr/local/lib/python3.10/dist-packages (from torch>=1.11.0->pytorch_lightning) (1.12)\n",
            "Requirement already satisfied: networkx in /usr/local/lib/python3.10/dist-packages (from torch>=1.11.0->pytorch_lightning) (3.1)\n",
            "Requirement already satisfied: jinja2 in /usr/local/lib/python3.10/dist-packages (from torch>=1.11.0->pytorch_lightning) (3.1.2)\n",
            "Requirement already satisfied: triton==2.0.0 in /usr/local/lib/python3.10/dist-packages (from torch>=1.11.0->pytorch_lightning) (2.0.0)\n",
            "Requirement already satisfied: cmake in /usr/local/lib/python3.10/dist-packages (from triton==2.0.0->torch>=1.11.0->pytorch_lightning) (3.27.5)\n",
            "Requirement already satisfied: lit in /usr/local/lib/python3.10/dist-packages (from triton==2.0.0->torch>=1.11.0->pytorch_lightning) (17.0.1)\n",
            "Requirement already satisfied: attrs>=17.3.0 in /usr/local/lib/python3.10/dist-packages (from aiohttp!=4.0.0a0,!=4.0.0a1->fsspec[http]>2021.06.0->pytorch_lightning) (23.1.0)\n",
            "Requirement already satisfied: charset-normalizer<4.0,>=2.0 in /usr/local/lib/python3.10/dist-packages (from aiohttp!=4.0.0a0,!=4.0.0a1->fsspec[http]>2021.06.0->pytorch_lightning) (3.2.0)\n",
            "Requirement already satisfied: multidict<7.0,>=4.5 in /usr/local/lib/python3.10/dist-packages (from aiohttp!=4.0.0a0,!=4.0.0a1->fsspec[http]>2021.06.0->pytorch_lightning) (6.0.4)\n",
            "Requirement already satisfied: async-timeout<5.0,>=4.0.0a3 in /usr/local/lib/python3.10/dist-packages (from aiohttp!=4.0.0a0,!=4.0.0a1->fsspec[http]>2021.06.0->pytorch_lightning) (4.0.3)\n",
            "Requirement already satisfied: yarl<2.0,>=1.0 in /usr/local/lib/python3.10/dist-packages (from aiohttp!=4.0.0a0,!=4.0.0a1->fsspec[http]>2021.06.0->pytorch_lightning) (1.9.2)\n",
            "Requirement already satisfied: frozenlist>=1.1.1 in /usr/local/lib/python3.10/dist-packages (from aiohttp!=4.0.0a0,!=4.0.0a1->fsspec[http]>2021.06.0->pytorch_lightning) (1.4.0)\n",
            "Requirement already satisfied: aiosignal>=1.1.2 in /usr/local/lib/python3.10/dist-packages (from aiohttp!=4.0.0a0,!=4.0.0a1->fsspec[http]>2021.06.0->pytorch_lightning) (1.3.1)\n",
            "Requirement already satisfied: MarkupSafe>=2.0 in /usr/local/lib/python3.10/dist-packages (from jinja2->torch>=1.11.0->pytorch_lightning) (2.1.3)\n",
            "Requirement already satisfied: idna<4,>=2.5 in /usr/local/lib/python3.10/dist-packages (from requests->fsspec[http]>2021.06.0->pytorch_lightning) (3.4)\n",
            "Requirement already satisfied: urllib3<3,>=1.21.1 in /usr/local/lib/python3.10/dist-packages (from requests->fsspec[http]>2021.06.0->pytorch_lightning) (2.0.5)\n",
            "Requirement already satisfied: certifi>=2017.4.17 in /usr/local/lib/python3.10/dist-packages (from requests->fsspec[http]>2021.06.0->pytorch_lightning) (2023.7.22)\n",
            "Requirement already satisfied: mpmath>=0.19 in /usr/local/lib/python3.10/dist-packages (from sympy->torch>=1.11.0->pytorch_lightning) (1.3.0)\n",
            "Installing collected packages: lightning-utilities, torchmetrics, pytorch_lightning\n",
            "Successfully installed lightning-utilities-0.9.0 pytorch_lightning-2.0.9.post0 torchmetrics-1.2.0\n"
          ]
        }
      ],
      "source": [
        "!pip3 install pytorch_lightning torchmetrics"
      ],
      "metadata": {
        "id": "L4PfRBUKy9_1",
        "colab": {
          "base_uri": "https://localhost:8080/"
        },
        "outputId": "76abd2fd-7e2e-4a3c-ba00-4b8f706afea5"
      }
    },
    {
      "cell_type": "code",
      "metadata": {
        "id": "lUJcEdalKlZn"
      },
      "source": [
        "import os\n",
        "import random\n",
        "import sys\n",
        "\n",
        "import matplotlib.pyplot as plt\n",
        "import numpy as np\n",
        "import torch\n",
        "from torch import nn\n",
        "import torch.nn.functional as F\n",
        "from tqdm import tqdm"
      ],
      "execution_count": 3,
      "outputs": []
    },
    {
      "cell_type": "code",
      "source": [
        "def seed_everything(seed):\n",
        "    # фискирует максимум сидов для корректности сравнения разных экспериментов\n",
        "    random.seed(seed)\n",
        "    os.environ[\"PYTHONHASHSEED\"] = str(seed)\n",
        "    np.random.seed(seed)\n",
        "    torch.manual_seed(seed)\n",
        "    torch.cuda.manual_seed(seed)\n",
        "    torch.backends.cudnn.deterministic = True\n",
        "\n",
        "\n",
        "seed_everything(0xBADBEEF)\n",
        "\n",
        "device = torch.device(\"cuda\") if torch.cuda.is_available() else torch.device(\"cpu\") # если есть gpu, то gpu\n",
        "accelerator = 'gpu' if torch.cuda.is_available() else 'cpu'"
      ],
      "metadata": {
        "id": "PGd36K4dlgL5"
      },
      "execution_count": 4,
      "outputs": []
    },
    {
      "cell_type": "markdown",
      "source": [
        "## PyTorch Lightning\n",
        "\n",
        "**PyTorch Lightning** это фреймворк для организованной работы с **PyTorch**. В нем упрощена работа по:\n",
        "- Написанию тренировочного цикла\n",
        "- Написанию датасетов\n",
        "- Использованию gpu/tpu/ipu/hpu и тд\n",
        "- Переводу моделей в формат ONNX\n",
        "- И многому другому\n",
        "\n",
        "Фреймворк призван оставить пользователю возможность конфигурировать параметры и проводить эксперименты, а остальное он возьмет на себя."
      ],
      "metadata": {
        "id": "2YmhZSXV4EBp"
      }
    },
    {
      "cell_type": "code",
      "execution_count": 5,
      "outputs": [],
      "source": [
        "from collections import defaultdict, namedtuple\n",
        "\n",
        "import pytorch_lightning as pl\n",
        "\n",
        "import torchvision\n",
        "import torchvision.transforms as transforms\n",
        "\n",
        "from torch.utils.data import DataLoader\n",
        "from torchmetrics.classification import MulticlassAccuracy\n",
        "\n",
        "mca = MulticlassAccuracy(num_classes=10, average=None)"
      ],
      "metadata": {
        "id": "ctYyb4Zyy-AW"
      }
    },
    {
      "cell_type": "markdown",
      "source": [
        "### Загрузка данных\n",
        "\n",
        "Будем работать с датасетом `Fashion MNIST` - это стандартный датасет, он есть в библиотеке pytorch. Объекты в датасете - это изображения разных элементов одежды (всего 10 классов). Будем решать задачу классификации элементов одежды по фотографиям.\n",
        "\n",
        "Так как датасет уже хранится в pytorch, то для его загрузки никаких вспомогательных действий не требуется - просто загружаем данные из библиотеки."
      ],
      "metadata": {
        "collapsed": false,
        "id": "7H3i6Nfvy-AX"
      }
    },
    {
      "cell_type": "markdown",
      "source": [
        "![image.png](data:image/png;base64,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)"
      ],
      "metadata": {
        "id": "b7r5XMe1g-nu"
      }
    },
    {
      "cell_type": "code",
      "source": [
        "# Train data\n",
        "fashion_mnist_train = torchvision.datasets.FashionMNIST(\n",
        "    \"./data\",\n",
        "    download=True,\n",
        "    transform=transforms.Compose([transforms.ToTensor()])\n",
        ")\n",
        "\n",
        "# Validation data\n",
        "fashion_mnist_val = torchvision.datasets.FashionMNIST(\n",
        "    \"./data\",\n",
        "    train=False,\n",
        "    download=True,\n",
        "    transform=transforms.Compose([transforms.ToTensor()]),\n",
        ")"
      ],
      "metadata": {
        "id": "lAQXVfDBZbZt",
        "colab": {
          "base_uri": "https://localhost:8080/"
        },
        "outputId": "69e1354f-97fd-44bf-f4db-c28ebecda767"
      },
      "execution_count": 6,
      "outputs": [
        {
          "output_type": "stream",
          "name": "stdout",
          "text": [
            "Downloading http://fashion-mnist.s3-website.eu-central-1.amazonaws.com/train-images-idx3-ubyte.gz\n",
            "Downloading http://fashion-mnist.s3-website.eu-central-1.amazonaws.com/train-images-idx3-ubyte.gz to ./data/FashionMNIST/raw/train-images-idx3-ubyte.gz\n"
          ]
        },
        {
          "output_type": "stream",
          "name": "stderr",
          "text": [
            "100%|██████████| 26421880/26421880 [00:02<00:00, 10044914.85it/s]\n"
          ]
        },
        {
          "output_type": "stream",
          "name": "stdout",
          "text": [
            "Extracting ./data/FashionMNIST/raw/train-images-idx3-ubyte.gz to ./data/FashionMNIST/raw\n",
            "\n",
            "Downloading http://fashion-mnist.s3-website.eu-central-1.amazonaws.com/train-labels-idx1-ubyte.gz\n",
            "Downloading http://fashion-mnist.s3-website.eu-central-1.amazonaws.com/train-labels-idx1-ubyte.gz to ./data/FashionMNIST/raw/train-labels-idx1-ubyte.gz\n"
          ]
        },
        {
          "output_type": "stream",
          "name": "stderr",
          "text": [
            "100%|██████████| 29515/29515 [00:00<00:00, 174300.07it/s]\n"
          ]
        },
        {
          "output_type": "stream",
          "name": "stdout",
          "text": [
            "Extracting ./data/FashionMNIST/raw/train-labels-idx1-ubyte.gz to ./data/FashionMNIST/raw\n",
            "\n",
            "Downloading http://fashion-mnist.s3-website.eu-central-1.amazonaws.com/t10k-images-idx3-ubyte.gz\n",
            "Downloading http://fashion-mnist.s3-website.eu-central-1.amazonaws.com/t10k-images-idx3-ubyte.gz to ./data/FashionMNIST/raw/t10k-images-idx3-ubyte.gz\n"
          ]
        },
        {
          "output_type": "stream",
          "name": "stderr",
          "text": [
            "100%|██████████| 4422102/4422102 [00:01<00:00, 3195817.60it/s]\n"
          ]
        },
        {
          "output_type": "stream",
          "name": "stdout",
          "text": [
            "Extracting ./data/FashionMNIST/raw/t10k-images-idx3-ubyte.gz to ./data/FashionMNIST/raw\n",
            "\n",
            "Downloading http://fashion-mnist.s3-website.eu-central-1.amazonaws.com/t10k-labels-idx1-ubyte.gz\n",
            "Downloading http://fashion-mnist.s3-website.eu-central-1.amazonaws.com/t10k-labels-idx1-ubyte.gz to ./data/FashionMNIST/raw/t10k-labels-idx1-ubyte.gz\n"
          ]
        },
        {
          "output_type": "stream",
          "name": "stderr",
          "text": [
            "100%|██████████| 5148/5148 [00:00<00:00, 5974620.09it/s]"
          ]
        },
        {
          "output_type": "stream",
          "name": "stdout",
          "text": [
            "Extracting ./data/FashionMNIST/raw/t10k-labels-idx1-ubyte.gz to ./data/FashionMNIST/raw\n",
            "\n"
          ]
        },
        {
          "output_type": "stream",
          "name": "stderr",
          "text": [
            "\n"
          ]
        }
      ]
    },
    {
      "cell_type": "markdown",
      "source": [
        "### DataLoader\n",
        "\n",
        "В deep learning и обучение, и применение моделей происходит по `батчам` (батч - это группа объектов).\n",
        "\n",
        "Например, на этапе обучения это будет значить, что градиент функции потерь будет считаться не по всем объектам выборки (очень долго!), а по одному батчу:\n",
        "\n",
        "$$w_{k+1} = w_k - \\eta\\nabla L(w_k),$$\n",
        "где\n",
        "$$L(w_k)=\\frac1b\\sum\\limits_{i=1}^b \\nabla_i L(w_k),$$\n",
        "\n",
        "а $b$ - число объектов в батче.\n",
        "\n"
      ],
      "metadata": {
        "id": "_FIiLPc6AvSU"
      }
    },
    {
      "cell_type": "markdown",
      "source": [
        "![image.png](data:image/png;base64,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)"
      ],
      "metadata": {
        "id": "-HdJnxWlhg3p"
      }
    },
    {
      "cell_type": "markdown",
      "source": [
        "Для того, чтобы из данных получать батчи в pytorch используется такая сущность как `DataLoader`, который принимает на вход класс унаследованный от torch.utils.data.Dataset."
      ],
      "metadata": {
        "id": "mSyOu3WbhpUY"
      }
    },
    {
      "cell_type": "code",
      "metadata": {
        "id": "hHAHgGdeKlau",
        "colab": {
          "base_uri": "https://localhost:8080/"
        },
        "outputId": "775edc14-90aa-43b1-adcd-6bced9025888"
      },
      "source": [
        "train_dataloader = DataLoader(\n",
        "    fashion_mnist_train,\n",
        "    batch_size=128,\n",
        "    shuffle=True,\n",
        "    num_workers=4\n",
        ")\n",
        "\n",
        "val_dataloader = DataLoader(\n",
        "    fashion_mnist_val,\n",
        "    batch_size=128,\n",
        "    num_workers=4\n",
        ")"
      ],
      "execution_count": 7,
      "outputs": [
        {
          "output_type": "stream",
          "name": "stderr",
          "text": [
            "/usr/local/lib/python3.10/dist-packages/torch/utils/data/dataloader.py:560: UserWarning: This DataLoader will create 4 worker processes in total. Our suggested max number of worker in current system is 2, which is smaller than what this DataLoader is going to create. Please be aware that excessive worker creation might get DataLoader running slow or even freeze, lower the worker number to avoid potential slowness/freeze if necessary.\n",
            "  warnings.warn(_create_warning_msg(\n"
          ]
        }
      ]
    },
    {
      "cell_type": "markdown",
      "source": [
        "Создадим словарь для перевода названия одежды в индекс."
      ],
      "metadata": {
        "id": "z7kwVeg0AReH"
      }
    },
    {
      "cell_type": "code",
      "metadata": {
        "id": "Sr1MKTjBKlaw"
      },
      "source": [
        "idx_to_label = defaultdict(None, {\n",
        "    0: \"T-shirt/Top\",\n",
        "    1: \"Trouser\",\n",
        "    2: \"Pullover\",\n",
        "    3: \"Dress\",\n",
        "    4: \"Coat\",\n",
        "    5: \"Sandal\",\n",
        "    6: \"Shirt\",\n",
        "    7: \"Sneaker\",\n",
        "    8: \"Bag\",\n",
        "    9: \"Ankle Boot\"\n",
        "})"
      ],
      "execution_count": 8,
      "outputs": []
    },
    {
      "cell_type": "markdown",
      "source": [
        "Посмотрим на пару объектов из датасета."
      ],
      "metadata": {
        "id": "kf1L445eAYua"
      }
    },
    {
      "cell_type": "code",
      "source": [
        "for batch in val_dataloader:\n",
        "\n",
        "    images, class_nums = batch\n",
        "\n",
        "    print(idx_to_label[int(class_nums[0])])\n",
        "    plt.imshow(images[0].squeeze())\n",
        "    plt.show()\n",
        "\n",
        "    print(idx_to_label[int(class_nums[127])])\n",
        "    plt.imshow(images[127].squeeze())\n",
        "    plt.show()\n",
        "\n",
        "    break"
      ],
      "metadata": {
        "id": "KQfTpcB05ZcB",
        "colab": {
          "base_uri": "https://localhost:8080/",
          "height": 878
        },
        "outputId": "944d718f-f7d0-4557-e504-9550b6e09e7e"
      },
      "execution_count": 9,
      "outputs": [
        {
          "output_type": "stream",
          "name": "stdout",
          "text": [
            "Ankle Boot\n"
          ]
        },
        {
          "output_type": "display_data",
          "data": {
            "text/plain": [
              "<Figure size 640x480 with 1 Axes>"
            ],
            "image/png": "[encoded data removed]"
          },
          "metadata": {}
        },
        {
          "output_type": "stream",
          "name": "stdout",
          "text": [
            "Coat\n"
          ]
        },
        {
          "output_type": "display_data",
          "data": {
            "text/plain": [
              "<Figure size 640x480 with 1 Axes>"
            ],
            "image/png": "[encoded data removed]"
          },
          "metadata": {}
        }
      ]
    },
    {
      "cell_type": "markdown",
      "metadata": {
        "id": "Q6Mf1W49f2Fv"
      },
      "source": [
        "## Модель\n",
        "\n",
        "Создаем класс модели по следующей схеме:\n",
        "\n",
        "1. Flatten\n",
        "2. Linear(out=128)\n",
        "3. ReLU\n",
        "4. Linear(out=10)"
      ]
    },
    {
      "cell_type": "markdown",
      "source": [
        "### Loss\n",
        "\n",
        "В задачах классификации мы обычно предсказываем не только классы, но и уверенность модели в ответе (вероятности). Для этого подходит `CrossEntropy loss` (или log-loss):\n",
        "\n",
        "$$Loss = -\\sum\\limits_{i=1}^l y_i\\cdot log(a(x_i)),$$\n",
        "где $y_i$ - правильный ответ, а $a(x_i)$ - предсказание модели на $i$-м объекте."
      ],
      "metadata": {
        "id": "KCspMr5Yi25w"
      }
    },
    {
      "cell_type": "code",
      "metadata": {
        "id": "QkHmFRSkKlay"
      },
      "source": [
        "class EasyNet(torch.nn.Module): # задаем сеть, способ вычисления loss и метрику\n",
        "    def __init__(self):\n",
        "        super().__init__()\n",
        "\n",
        "        self.flatten = nn.Flatten() # вытягиваем матрицу (картинка - это матрица) в вектор (одномерный массив)\n",
        "        self.linear1 = nn.Linear(28 * 28, 128) # полносвязный слой с 28*28 входными и 128 выходными\n",
        "        self.relu = nn.Tanh() # функция активации ReLU\n",
        "        self.linear2 = nn.Linear(128, 128)\n",
        "        self.linear3 = nn.Linear(128, 10)\n",
        "        self.loss_func = torch.nn.CrossEntropyLoss()\n",
        "        self.targets = torch.Tensor()\n",
        "        self.preds = torch.Tensor()\n",
        "\n",
        "    def _forward(self, x): # задаем последовательность слоев\n",
        "        x = self.flatten(x)\n",
        "        x = self.linear1(x)\n",
        "        x = self.relu(x)\n",
        "        x = self.linear2(x)\n",
        "        x = self.relu(x)\n",
        "        x = self.linear3(x)\n",
        "        return x\n",
        "\n",
        "    def forward(self, images, target=None):\n",
        "        # images ~ (batch size, num channels, height, width)\n",
        "        # target ~ (batch size)\n",
        "        # output ~ (batch size, num classes)\n",
        "        output = self._forward(images) # предсказания модели\n",
        "\n",
        "        # get accuracy score and save it to self.accuracy\n",
        "        if target is not None:\n",
        "            loss = self.loss_func(output, target) # вычисляем ошибку модели\n",
        "\n",
        "            self.targets = torch.cat((self.targets, target.cpu()), 0) # задаем значения целевой переменной\n",
        "\n",
        "            pred = torch.argmax(output, dim=-1) # переводим предсказания модели в классы\n",
        "            self.preds = torch.cat((self.preds, pred.cpu()), 0)\n",
        "\n",
        "            self.accuracy = mca(self.preds.long(), self.targets.long()) # вычисляем accuracy по всем текущим значениям\n",
        "\n",
        "            return output, loss\n",
        "\n",
        "        return output\n",
        "\n",
        "    def get_accuracy(self, reset=False):\n",
        "        # return accuracy by all values till now\n",
        "        if reset:\n",
        "            self.targets = torch.Tensor()\n",
        "            self.preds = torch.Tensor()\n",
        "        return self.accuracy"
      ],
      "execution_count": 31,
      "outputs": []
    },
    {
      "cell_type": "markdown",
      "source": [
        "### Гиперпараметры"
      ],
      "metadata": {
        "id": "zRuVz6TXFANc"
      }
    },
    {
      "cell_type": "code",
      "source": [
        "LossInfo = namedtuple(\n",
        "    \"LossInfo\",\n",
        "    [\"full_train_losses\", \"train_epoch_losses\", \"eval_epoch_losses\"]\n",
        ")\n",
        "\n",
        "EPOCHS = 10 # число эпох\n",
        "LR = 0.001 # learning rate"
      ],
      "metadata": {
        "id": "6xmAPz91FAZb"
      },
      "execution_count": 32,
      "outputs": []
    },
    {
      "cell_type": "markdown",
      "source": [
        "### Тренировочные циклы (Lightning)\n",
        "\n",
        "1) Создается 1 класс отнаследованный от `pl.LightningModule`. В нем описывается сама модель, необходимые функции тренировочного и валидационного шага.\n",
        "\n",
        "2) Создается объект класса `pl.Trainer` с параметрами (номер гпу, кол-во эпох и так далее) подробнее можно посмотреть в документации [тут](https://pytorch-lightning.readthedocs.io/en/latest/api/pytorch_lightning.trainer.trainer.Trainer.html?highlight=trainer) или [тут](https://pytorch-lightning.readthedocs.io/en/latest/common/trainer.html?highlight=trainer#trainer-flags).\n",
        "\n",
        "3) Вызывается `trainer.fit(model, train_loader, val_loader)`.\n",
        "\n",
        "\n",
        "```\n",
        "class MyModule(pl.LightningModule):\n",
        "    def init():\n",
        "        init_model()\n",
        "    def forward():\n",
        "        forward_model()\n",
        "    def training_step():\n",
        "        make_1_training_step()\n",
        "    def validation_step():\n",
        "        make_1_validation_step()\n",
        "\n",
        "trainer = pl.Trainer(gpus=1, max_epochs=10)\n",
        "trainer.fit(model, train_loader, val_loader)\n",
        "```\n",
        "Поскольку у нас уже есть модель `EasyNet`, то осталось сделать немного."
      ],
      "metadata": {
        "id": "3b0XCReZ4w0W"
      }
    },
    {
      "cell_type": "code",
      "source": [
        "# 1) create a LightningModule\n",
        "class SimpleModule(pl.LightningModule):\n",
        "    def __init__(self, model, learning_rate):\n",
        "        super().__init__()\n",
        "        self.model = model\n",
        "        self.learning_rate = learning_rate\n",
        "\n",
        "    def forward(self, x):\n",
        "        result = self.model(x)\n",
        "        return result\n",
        "\n",
        "    def configure_optimizers(self):\n",
        "        optimizer = torch.optim.Adam(self.parameters(), lr=self.learning_rate) # вариант градиентного спуска, который мы используем\n",
        "        return optimizer\n",
        "\n",
        "    def training_step(self, train_batch, batch_idx): # шаг обучения: вычисляем лосс на батче\n",
        "        images, target = train_batch\n",
        "        _, loss = self.model(images, target)\n",
        "        self.log(\"train_loss\", loss, prog_bar=True)  # сохраняет логи в папку\n",
        "        return loss\n",
        "\n",
        "    def validation_step(self, val_batch, batch_idx): # шаг валидации - аналогичный\n",
        "        images, target = val_batch\n",
        "        _, loss = self.model(images, target)\n",
        "        self.log(\"val_loss\", loss, prog_bar=True)\n",
        "\n",
        "    def test_step(self, test_batch, batch_idx): # шаг тестирования - вычисляем ту метрику или функцию потерь, которую хотим\n",
        "        images, target = test_batch\n",
        "\n",
        "        preds = self.model(images)\n",
        "        pred_classes = torch.argmax(preds, dim=-1) # переводим предсказания модели в классы\n",
        "\n",
        "        accuracy = mca(pred_classes.cpu(), target.cpu()).mean()\n",
        "\n",
        "        self.log(\"test_accuracy\", accuracy, prog_bar=True)"
      ],
      "metadata": {
        "id": "XqO3RxM24urH"
      },
      "execution_count": 33,
      "outputs": []
    },
    {
      "cell_type": "code",
      "source": [
        "# 2) create module\n",
        "\n",
        "model = EasyNet().to(device) # объявляем сеть, переносим ее на gpu\n",
        "\n",
        "module = SimpleModule( # объявляем модуль для обучения сети\n",
        "    model,\n",
        "    learning_rate=LR\n",
        ")\n",
        "\n",
        "# 3) create Trainer and train (±30 seconds on gpu)\n",
        "trainer = pl.Trainer( # выбираем параметры обучения\n",
        "    accelerator=accelerator,\n",
        "    max_epochs=5\n",
        ")\n",
        "\n",
        "trainer.fit(module, train_dataloader, val_dataloader)"
      ],
      "metadata": {
        "id": "Ihtd_7Qv-rVA",
        "colab": {
          "base_uri": "https://localhost:8080/",
          "height": 364,
          "referenced_widgets": [
            "553a663ad78a40ea936d1f75ea708298",
            "e3ca1e0d90dd40ada07a3eaaec606a19",
            "e6191a5c7ca245da88cff636f9165e53",
            "b14c8012f694474190ad39f391a07003",
            "c477c6884cf1432392afa6f8f007afa2",
            "52d1b0e496674c5395cd8e5a90aa017f",
            "7f9d5b31fe4645aca0d3d6847040a35e",
            "4932ad45b7cb4659aa7ee3240237aaaf",
            "0b5748197f864306b0408e9cf3fafa3f",
            "6ea3ecd093734391af78d8677699a683",
            "9a439cea60fd42eca600e5211710bcee",
            "2d9629add3a24ad08e622c27140fbcca",
            "d7d5dc4655ed4947b69d6f998c9e934c",
            "ec6252080493464fa4664be30a5b1e7a",
            "e1f1814751fe4863972a798147724b04",
            "56d5d7a5b6934e3a8e0380f641e84158",
            "415f3284530d4ab0bb0bfbca1de2176b",
            "e256bb569f634da991715759988dfc4b",
            "2d452cb2601843078c44d8f02a83e754",
            "c8130ed065b14e14a0b911d7ed6826d9",
            "9381024c6b7c43ca9c5257a23c47e02c",
            "af01ab29b1544decba99808d77e6111b",
            "4e50d48f5c0149288d57beaea84d3642",
            "5ab352d16c544b46b9c0821f586187ed",
            "cd1c68fd7f654674a31d37d95035947e",
            "a3859b9859354305a8efbcbb14c747f6",
            "a9e919880432453a9e113e326d9efde1",
            "5e8fbaa7765b48f4a1740c1d6b6752d6",
            "c0d8a01a8a4840b393ed94ffddda4a36",
            "ba88cd376e4142509967cc18118016c3",
            "22e94ed351c14eb8b70a971ca8d1a831",
            "48b42f8c09d34669965deba100cb96e7",
            "52b398c189784123abd7c03af801a321",
            "1ec1a4c061fb4a2e95a74e2515e2bfda",
            "746d73945996478e9fc8f482892d52b7",
            "6cbb158b854343229aacf88b57ba7bb1",
            "3521f920d92c462a96d8513fd1a1bcfd",
            "0613ab4994044d07ac99267bede80b1d",
            "ad9039aea7414a7ea4652f8389350ec0",
            "4955a7e09ea8453881faad3e3e4c0a8e",
            "65ece4cc5cd142c4999b47664c2bdda8",
            "10a9d47701d34649913c7f20c0098ea3",
            "9e3a0a64e11045fd9a20ea92aec239c3",
            "4bc8950e58644816a3eb04c2a5391554",
            "21eb1026f7e64e5a9ecb03f285bee633",
            "a5e06cba9a9a467aab5b076d0875680e",
            "bd43c9389beb4c6c97de93aff794085e",
            "a105e0e1a7434fefba136ef6d18e4475",
            "d6f8d52440134db4912bfb8577484b70",
            "ae4c3f0e9a26490f9cf47373c4d49faf",
            "38dd2431803e4e98922cd07d514f0b03",
            "9d412ee8e4cc46fe980bfc092662c65e",
            "379b7cc7c69743a2880c5df1491c756e",
            "f3b834180f444b3e896201db98d3e23c",
            "abd828fa48c34bbf9e7260302ed89bc5",
            "b114731cf93044d1b9457a1003d91417",
            "f467cb49c5a340e99a8878ef132d2cb3",
            "7a4114d24728445fb130896984451031",
            "b82173ac82d94add8e7758ea96479357",
            "8058942c09db4a55a5901c08fd43a58f",
            "f230577ee43d42e38250c22f693d79c4",
            "3435ee0f46dc47d2bd67feb35365e9f4",
            "2e82de5bf9b5439491c81dfc44ff1254",
            "50a51a4f90664187ba877b1188eb1850",
            "b19a7f715bcf42bc8812e0e7486b2c65",
            "358426db558b4b909a779e3dcc9e69f9",
            "c510f3ba896d42c28c96320b87afc42f",
            "8e28a83fb1ee4bd19b9ed3c2d3ff2da5",
            "142cc1991f094d0185e73565a9229a0e",
            "ea49e7a7edd34e6fb7a7b6a58d47a422",
            "c89dc696fcc6455cbf5bbbe100f06cba",
            "3741c533ff4f48d2baccf2662ecbd344",
            "b8365d24926d435b9ad8141e5555e91c",
            "5738ba7f379245fc95954547c37b1e83",
            "10cfc291683a403e9e66791683d29c47",
            "8b09ae917f294a4887ad4f74d08c9edb",
            "a9baae5eb9d841a2935aa6f25b7505ed"
          ]
        },
        "outputId": "9897669c-f30f-4a87-e310-36b0091aaf29"
      },
      "execution_count": 34,
      "outputs": [
        {
          "output_type": "stream",
          "name": "stderr",
          "text": [
            "INFO:pytorch_lightning.utilities.rank_zero:GPU available: True (cuda), used: True\n",
            "INFO:pytorch_lightning.utilities.rank_zero:TPU available: False, using: 0 TPU cores\n",
            "INFO:pytorch_lightning.utilities.rank_zero:IPU available: False, using: 0 IPUs\n",
            "INFO:pytorch_lightning.utilities.rank_zero:HPU available: False, using: 0 HPUs\n",
            "INFO:pytorch_lightning.accelerators.cuda:LOCAL_RANK: 0 - CUDA_VISIBLE_DEVICES: [0]\n",
            "INFO:pytorch_lightning.callbacks.model_summary:\n",
            "  | Name  | Type    | Params\n",
            "----------------------------------\n",
            "0 | model | EasyNet | 118 K \n",
            "----------------------------------\n",
            "118 K     Trainable params\n",
            "0         Non-trainable params\n",
            "118 K     Total params\n",
            "0.473     Total estimated model params size (MB)\n"
          ]
        },
        {
          "output_type": "display_data",
          "data": {
            "text/plain": [
              "Sanity Checking: 0it [00:00, ?it/s]"
            ],
            "application/vnd.jupyter.widget-view+json": {
              "version_major": 2,
              "version_minor": 0,
              "model_id": "553a663ad78a40ea936d1f75ea708298"
            }
          },
          "metadata": {}
        },
        {
          "output_type": "stream",
          "name": "stderr",
          "text": [
            "/usr/local/lib/python3.10/dist-packages/torch/utils/data/dataloader.py:560: UserWarning: This DataLoader will create 4 worker processes in total. Our suggested max number of worker in current system is 2, which is smaller than what this DataLoader is going to create. Please be aware that excessive worker creation might get DataLoader running slow or even freeze, lower the worker number to avoid potential slowness/freeze if necessary.\n",
            "  warnings.warn(_create_warning_msg(\n"
          ]
        },
        {
          "output_type": "display_data",
          "data": {
            "text/plain": [
              "Training: 0it [00:00, ?it/s]"
            ],
            "application/vnd.jupyter.widget-view+json": {
              "version_major": 2,
              "version_minor": 0,
              "model_id": "2d9629add3a24ad08e622c27140fbcca"
            }
          },
          "metadata": {}
        },
        {
          "output_type": "display_data",
          "data": {
            "text/plain": [
              "Validation: 0it [00:00, ?it/s]"
            ],
            "application/vnd.jupyter.widget-view+json": {
              "version_major": 2,
              "version_minor": 0,
              "model_id": "4e50d48f5c0149288d57beaea84d3642"
            }
          },
          "metadata": {}
        },
        {
          "output_type": "display_data",
          "data": {
            "text/plain": [
              "Validation: 0it [00:00, ?it/s]"
            ],
            "application/vnd.jupyter.widget-view+json": {
              "version_major": 2,
              "version_minor": 0,
              "model_id": "1ec1a4c061fb4a2e95a74e2515e2bfda"
            }
          },
          "metadata": {}
        },
        {
          "output_type": "display_data",
          "data": {
            "text/plain": [
              "Validation: 0it [00:00, ?it/s]"
            ],
            "application/vnd.jupyter.widget-view+json": {
              "version_major": 2,
              "version_minor": 0,
              "model_id": "21eb1026f7e64e5a9ecb03f285bee633"
            }
          },
          "metadata": {}
        },
        {
          "output_type": "display_data",
          "data": {
            "text/plain": [
              "Validation: 0it [00:00, ?it/s]"
            ],
            "application/vnd.jupyter.widget-view+json": {
              "version_major": 2,
              "version_minor": 0,
              "model_id": "b114731cf93044d1b9457a1003d91417"
            }
          },
          "metadata": {}
        },
        {
          "output_type": "display_data",
          "data": {
            "text/plain": [
              "Validation: 0it [00:00, ?it/s]"
            ],
            "application/vnd.jupyter.widget-view+json": {
              "version_major": 2,
              "version_minor": 0,
              "model_id": "c510f3ba896d42c28c96320b87afc42f"
            }
          },
          "metadata": {}
        },
        {
          "output_type": "stream",
          "name": "stderr",
          "text": [
            "INFO:pytorch_lightning.utilities.rank_zero:`Trainer.fit` stopped: `max_epochs=5` reached.\n"
          ]
        }
      ]
    },
    {
      "cell_type": "markdown",
      "source": [
        "При использовании `trainer.fit()` все шаги обучения:\n",
        "* итерирование по эпохам и по батчам\n",
        "* вычисление градиентов, обновление весов модели\n",
        "* перенос модели и данных на GPU и другое\n",
        "делается под капотом.\n",
        "\n",
        "Это удобно, мы можем не волноваться, что забудем сделать какой-то важный шаг в обучении. Кроме того, код становится прозрачным и хорошо читаемым."
      ],
      "metadata": {
        "id": "XThjhAsA-pxW"
      }
    },
    {
      "cell_type": "markdown",
      "source": [
        "Для сравнения вы можете посмотреть на объем кода в обучающем цикле без использования lightning, например, [здесь](https://www.kaggle.com/code/pankajj/fashion-mnist-with-pytorch-93-accuracy)."
      ],
      "metadata": {
        "id": "RxjhJg-9kcnW"
      }
    },
    {
      "cell_type": "markdown",
      "source": [
        "## Тестирование и анализ качества модели"
      ],
      "metadata": {
        "id": "mbPgCsNijsNx"
      }
    },
    {
      "cell_type": "markdown",
      "source": [
        "Посмотрим на `accuracy` модели по всем валидационным данным.\n",
        "\n",
        "Для тестирования модели через `trainer.test` нужно добавить в наш класс `SimpleModule` метод `test_step` - и написать в нем, что и как мы вычисляем. В этой задаче вычисляем `accuracy`."
      ],
      "metadata": {
        "id": "x5PcL1uh5maO"
      }
    },
    {
      "cell_type": "code",
      "source": [
        "trainer.test(module, dataloaders=val_dataloader)"
      ],
      "metadata": {
        "id": "VgvHVlCUp-TV",
        "colab": {
          "base_uri": "https://localhost:8080/",
          "height": 181,
          "referenced_widgets": [
            "c6d93ca9a2404a35954a62ac614dd8f5",
            "592aab4915914e29be108c0e9e667e40",
            "debd6e3e5e3c48a0825fb1f91c93d377",
            "57b53af4124741fe8ad4312e8895b2ca",
            "691d52b34d5c46a2a3dcae5385a7f3a7",
            "30e181124e014aefb5a3e221900fa535",
            "9931177dd4b0458c8aeb1928de373e03",
            "fe5e78d41a0f4d3d9dc3341f74e8ef9c",
            "f89030511e2546018dfbf05f4df89cbb",
            "9e2c3d08c58a4b8b9cbd7aa181a3f481",
            "275b62b7025f4caba24fd6d147c0082a"
          ]
        },
        "outputId": "350f4bb7-e1b0-4b95-bddf-46845a0379e9"
      },
      "execution_count": 35,
      "outputs": [
        {
          "output_type": "stream",
          "name": "stderr",
          "text": [
            "INFO:pytorch_lightning.accelerators.cuda:LOCAL_RANK: 0 - CUDA_VISIBLE_DEVICES: [0]\n"
          ]
        },
        {
          "output_type": "display_data",
          "data": {
            "text/plain": [
              "Testing: 0it [00:00, ?it/s]"
            ],
            "application/vnd.jupyter.widget-view+json": {
              "version_major": 2,
              "version_minor": 0,
              "model_id": "c6d93ca9a2404a35954a62ac614dd8f5"
            }
          },
          "metadata": {}
        },
        {
          "output_type": "display_data",
          "data": {
            "text/plain": [
              "┏━━━━━━━━━━━━━━━━━━━━━━━━━━━┳━━━━━━━━━━━━━━━━━━━━━━━━━━━┓\n",
              "┃\u001b[1m \u001b[0m\u001b[1m       Test metric       \u001b[0m\u001b[1m \u001b[0m┃\u001b[1m \u001b[0m\u001b[1m      DataLoader 0       \u001b[0m\u001b[1m \u001b[0m┃\n",
              "┡━━━━━━━━━━━━━━━━━━━━━━━━━━━╇━━━━━━━━━━━━━━━━━━━━━━━━━━━┩\n",
              "│\u001b[36m \u001b[0m\u001b[36m      test_accuracy      \u001b[0m\u001b[36m \u001b[0m│\u001b[35m \u001b[0m\u001b[35m   0.8813234567642212    \u001b[0m\u001b[35m \u001b[0m│\n",
              "└───────────────────────────┴───────────────────────────┘\n"
            ],
            "text/html": [
              "<pre style=\"white-space:pre;overflow-x:auto;line-height:normal;font-family:Menlo,'DejaVu Sans Mono',consolas,'Courier New',monospace\">┏━━━━━━━━━━━━━━━━━━━━━━━━━━━┳━━━━━━━━━━━━━━━━━━━━━━━━━━━┓\n",
              "┃<span style=\"font-weight: bold\">        Test metric        </span>┃<span style=\"font-weight: bold\">       DataLoader 0        </span>┃\n",
              "┡━━━━━━━━━━━━━━━━━━━━━━━━━━━╇━━━━━━━━━━━━━━━━━━━━━━━━━━━┩\n",
              "│<span style=\"color: #008080; text-decoration-color: #008080\">       test_accuracy       </span>│<span style=\"color: #800080; text-decoration-color: #800080\">    0.8813234567642212     </span>│\n",
              "└───────────────────────────┴───────────────────────────┘\n",
              "</pre>\n"
            ]
          },
          "metadata": {}
        },
        {
          "output_type": "execute_result",
          "data": {
            "text/plain": [
              "[{'test_accuracy': 0.8813234567642212}]"
            ]
          },
          "metadata": {},
          "execution_count": 35
        }
      ]
    },
    {
      "cell_type": "markdown",
      "source": [
        "Визуально оценим качество модели. Выведем на экран объекты, на которых модель ошибается."
      ],
      "metadata": {
        "id": "Uw6xsEa050Vk"
      }
    },
    {
      "cell_type": "code",
      "source": [
        "errors = 0\n",
        "\n",
        "module.eval() # переводим модель в режим применения\n",
        "\n",
        "with torch.no_grad(): # градиенты не считаем\n",
        "  for batch in val_dataloader:\n",
        "\n",
        "      images, class_nums = batch\n",
        "\n",
        "      preds = module(images)\n",
        "      pred_classes = torch.argmax(preds, dim=-1) # переводим предсказания модели в классы\n",
        "\n",
        "      for i in range(128): # нарисуем только объекты с неверными предсказаниями\n",
        "          correct_answer = idx_to_label[int(class_nums[i])]\n",
        "          predicted_answer = idx_to_label[int(pred_classes[i])]\n",
        "\n",
        "          if correct_answer != predicted_answer:\n",
        "              errors += 1\n",
        "              print('Correct answer:', correct_answer)\n",
        "              print('Predicted answer:', predicted_answer)\n",
        "              plt.imshow(images[i].squeeze())\n",
        "              plt.show()\n",
        "\n",
        "      break\n",
        "\n",
        "print(errors, 'errors out of 128')"
      ],
      "metadata": {
        "id": "EuvHvWJejuwQ",
        "colab": {
          "base_uri": "https://localhost:8080/",
          "height": 1000
        },
        "outputId": "72da3902-676f-4339-d1ae-37c13fd2f128"
      },
      "execution_count": 14,
      "outputs": [
        {
          "output_type": "stream",
          "name": "stdout",
          "text": [
            "Correct answer: Coat\n",
            "Predicted answer: Pullover\n"
          ]
        },
        {
          "output_type": "display_data",
          "data": {
            "text/plain": [
              "<Figure size 640x480 with 1 Axes>"
            ],
            "image/png": "[encoded data removed]"
          },
          "metadata": {}
        },
        {
          "output_type": "stream",
          "name": "stdout",
          "text": [
            "Correct answer: Coat\n",
            "Predicted answer: Pullover\n"
          ]
        },
        {
          "output_type": "display_data",
          "data": {
            "text/plain": [
              "<Figure size 640x480 with 1 Axes>"
            ],
            "image/png": "[encoded data removed]"
          },
          "metadata": {}
        },
        {
          "output_type": "stream",
          "name": "stdout",
          "text": [
            "Correct answer: Dress\n",
            "Predicted answer: Shirt\n"
          ]
        },
        {
          "output_type": "display_data",
          "data": {
            "text/plain": [
              "<Figure size 640x480 with 1 Axes>"
            ],
            "image/png": "[encoded data removed]"
          },
          "metadata": {}
        },
        {
          "output_type": "stream",
          "name": "stdout",
          "text": [
            "Correct answer: Shirt\n",
            "Predicted answer: T-shirt/Top\n"
          ]
        },
        {
          "output_type": "display_data",
          "data": {
            "text/plain": [
              "<Figure size 640x480 with 1 Axes>"
            ],
            "image/png": "[encoded data removed]"
          },
          "metadata": {}
        },
        {
          "output_type": "stream",
          "name": "stdout",
          "text": [
            "Correct answer: Dress\n",
            "Predicted answer: Shirt\n"
          ]
        },
        {
          "output_type": "display_data",
          "data": {
            "text/plain": [
              "<Figure size 640x480 with 1 Axes>"
            ],
            "image/png": "[encoded data removed]"
          },
          "metadata": {}
        },
        {
          "output_type": "stream",
          "name": "stdout",
          "text": [
            "Correct answer: Pullover\n",
            "Predicted answer: Shirt\n"
          ]
        },
        {
          "output_type": "display_data",
          "data": {
            "text/plain": [
              "<Figure size 640x480 with 1 Axes>"
            ],
            "image/png": "[encoded data removed]"
          },
          "metadata": {}
        },
        {
          "output_type": "stream",
          "name": "stdout",
          "text": [
            "Correct answer: Coat\n",
            "Predicted answer: Pullover\n"
          ]
        },
        {
          "output_type": "display_data",
          "data": {
            "text/plain": [
              "<Figure size 640x480 with 1 Axes>"
            ],
            "image/png": "[encoded data removed]"
          },
          "metadata": {}
        },
        {
          "output_type": "stream",
          "name": "stdout",
          "text": [
            "Correct answer: Pullover\n",
            "Predicted answer: Dress\n"
          ]
        },
        {
          "output_type": "display_data",
          "data": {
            "text/plain": [
              "<Figure size 640x480 with 1 Axes>"
            ],
            "image/png": "[encoded data removed]"
          },
          "metadata": {}
        },
        {
          "output_type": "stream",
          "name": "stdout",
          "text": [
            "Correct answer: Dress\n",
            "Predicted answer: Coat\n"
          ]
        },
        {
          "output_type": "display_data",
          "data": {
            "text/plain": [
              "<Figure size 640x480 with 1 Axes>"
            ],
            "image/png": "[encoded data removed]"
          },
          "metadata": {}
        },
        {
          "output_type": "stream",
          "name": "stdout",
          "text": [
            "Correct answer: Ankle Boot\n",
            "Predicted answer: Sneaker\n"
          ]
        },
        {
          "output_type": "display_data",
          "data": {
            "text/plain": [
              "<Figure size 640x480 with 1 Axes>"
            ],
            "image/png": "[encoded data removed]"
          },
          "metadata": {}
        },
        {
          "output_type": "stream",
          "name": "stdout",
          "text": [
            "Correct answer: Shirt\n",
            "Predicted answer: Pullover\n"
          ]
        },
        {
          "output_type": "display_data",
          "data": {
            "text/plain": [
              "<Figure size 640x480 with 1 Axes>"
            ],
            "image/png": "[encoded data removed]"
          },
          "metadata": {}
        },
        {
          "output_type": "stream",
          "name": "stdout",
          "text": [
            "Correct answer: Pullover\n",
            "Predicted answer: Shirt\n"
          ]
        },
        {
          "output_type": "display_data",
          "data": {
            "text/plain": [
              "<Figure size 640x480 with 1 Axes>"
            ],
            "image/png": "[encoded data removed]"
          },
          "metadata": {}
        },
        {
          "output_type": "stream",
          "name": "stdout",
          "text": [
            "Correct answer: Ankle Boot\n",
            "Predicted answer: Sneaker\n"
          ]
        },
        {
          "output_type": "display_data",
          "data": {
            "text/plain": [
              "<Figure size 640x480 with 1 Axes>"
            ],
            "image/png": "[encoded data removed]"
          },
          "metadata": {}
        },
        {
          "output_type": "stream",
          "name": "stdout",
          "text": [
            "Correct answer: Coat\n",
            "Predicted answer: Pullover\n"
          ]
        },
        {
          "output_type": "display_data",
          "data": {
            "text/plain": [
              "<Figure size 640x480 with 1 Axes>"
            ],
            "image/png": "[encoded data removed]"
          },
          "metadata": {}
        },
        {
          "output_type": "stream",
          "name": "stdout",
          "text": [
            "14 errors out of 128\n"
          ]
        }
      ]
    },
    {
      "cell_type": "code",
      "source": [],
      "metadata": {
        "id": "Jfrg-TSE3e_n"
      },
      "execution_count": null,
      "outputs": []
    }
  ]
}